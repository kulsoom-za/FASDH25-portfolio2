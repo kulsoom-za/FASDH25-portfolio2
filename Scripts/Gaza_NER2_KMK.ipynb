{
  "nbformat": 4,
  "nbformat_minor": 0,
  "metadata": {
    "colab": {
      "provenance": [],
      "gpuType": "T4"
    },
    "kernelspec": {
      "name": "python3",
      "display_name": "Python 3"
    },
    "language_info": {
      "name": "python"
    },
    "widgets": {
      "application/vnd.jupyter.widget-state+json": {
        "5b3b1d5a53924155931c03bd75dae8c3": {
          "model_module": "@jupyter-widgets/controls",
          "model_name": "HBoxModel",
          "model_module_version": "1.5.0",
          "state": {
            "_dom_classes": [],
            "_model_module": "@jupyter-widgets/controls",
            "_model_module_version": "1.5.0",
            "_model_name": "HBoxModel",
            "_view_count": null,
            "_view_module": "@jupyter-widgets/controls",
            "_view_module_version": "1.5.0",
            "_view_name": "HBoxView",
            "box_style": "",
            "children": [
              "IPY_MODEL_612228c3e898404e862f88dd5dd56163",
              "IPY_MODEL_6692e49e9087499d950bfbe418ceeda8",
              "IPY_MODEL_a05b4453c3b24855a0f7bd10db8fca3f"
            ],
            "layout": "IPY_MODEL_0fa74afb8ba746809da3a797908aadde"
          }
        },
        "612228c3e898404e862f88dd5dd56163": {
          "model_module": "@jupyter-widgets/controls",
          "model_name": "HTMLModel",
          "model_module_version": "1.5.0",
          "state": {
            "_dom_classes": [],
            "_model_module": "@jupyter-widgets/controls",
            "_model_module_version": "1.5.0",
            "_model_name": "HTMLModel",
            "_view_count": null,
            "_view_module": "@jupyter-widgets/controls",
            "_view_module_version": "1.5.0",
            "_view_name": "HTMLView",
            "description": "",
            "description_tooltip": null,
            "layout": "IPY_MODEL_e64b4d077c1441648b72fbeb139be81f",
            "placeholder": "​",
            "style": "IPY_MODEL_ce9e0337eebf49b4b5c18ff89470022f",
            "value": "Downloading https://raw.githubusercontent.com/stanfordnlp/stanza-resources/main/resources_1.10.0.json: "
          }
        },
        "6692e49e9087499d950bfbe418ceeda8": {
          "model_module": "@jupyter-widgets/controls",
          "model_name": "FloatProgressModel",
          "model_module_version": "1.5.0",
          "state": {
            "_dom_classes": [],
            "_model_module": "@jupyter-widgets/controls",
            "_model_module_version": "1.5.0",
            "_model_name": "FloatProgressModel",
            "_view_count": null,
            "_view_module": "@jupyter-widgets/controls",
            "_view_module_version": "1.5.0",
            "_view_name": "ProgressView",
            "bar_style": "success",
            "description": "",
            "description_tooltip": null,
            "layout": "IPY_MODEL_37e3380707544587af6ac1490fd229da",
            "max": 52741,
            "min": 0,
            "orientation": "horizontal",
            "style": "IPY_MODEL_25f9675851344e9aadcbe0e46d5e7587",
            "value": 52741
          }
        },
        "a05b4453c3b24855a0f7bd10db8fca3f": {
          "model_module": "@jupyter-widgets/controls",
          "model_name": "HTMLModel",
          "model_module_version": "1.5.0",
          "state": {
            "_dom_classes": [],
            "_model_module": "@jupyter-widgets/controls",
            "_model_module_version": "1.5.0",
            "_model_name": "HTMLModel",
            "_view_count": null,
            "_view_module": "@jupyter-widgets/controls",
            "_view_module_version": "1.5.0",
            "_view_name": "HTMLView",
            "description": "",
            "description_tooltip": null,
            "layout": "IPY_MODEL_8789dfe0bd464962ac12cbf75c17a1a1",
            "placeholder": "​",
            "style": "IPY_MODEL_5b4566bf11ff44bbb395b3a7316cd796",
            "value": " 426k/? [00:00&lt;00:00, 29.5MB/s]"
          }
        },
        "0fa74afb8ba746809da3a797908aadde": {
          "model_module": "@jupyter-widgets/base",
          "model_name": "LayoutModel",
          "model_module_version": "1.2.0",
          "state": {
            "_model_module": "@jupyter-widgets/base",
            "_model_module_version": "1.2.0",
            "_model_name": "LayoutModel",
            "_view_count": null,
            "_view_module": "@jupyter-widgets/base",
            "_view_module_version": "1.2.0",
            "_view_name": "LayoutView",
            "align_content": null,
            "align_items": null,
            "align_self": null,
            "border": null,
            "bottom": null,
            "display": null,
            "flex": null,
            "flex_flow": null,
            "grid_area": null,
            "grid_auto_columns": null,
            "grid_auto_flow": null,
            "grid_auto_rows": null,
            "grid_column": null,
            "grid_gap": null,
            "grid_row": null,
            "grid_template_areas": null,
            "grid_template_columns": null,
            "grid_template_rows": null,
            "height": null,
            "justify_content": null,
            "justify_items": null,
            "left": null,
            "margin": null,
            "max_height": null,
            "max_width": null,
            "min_height": null,
            "min_width": null,
            "object_fit": null,
            "object_position": null,
            "order": null,
            "overflow": null,
            "overflow_x": null,
            "overflow_y": null,
            "padding": null,
            "right": null,
            "top": null,
            "visibility": null,
            "width": null
          }
        },
        "e64b4d077c1441648b72fbeb139be81f": {
          "model_module": "@jupyter-widgets/base",
          "model_name": "LayoutModel",
          "model_module_version": "1.2.0",
          "state": {
            "_model_module": "@jupyter-widgets/base",
            "_model_module_version": "1.2.0",
            "_model_name": "LayoutModel",
            "_view_count": null,
            "_view_module": "@jupyter-widgets/base",
            "_view_module_version": "1.2.0",
            "_view_name": "LayoutView",
            "align_content": null,
            "align_items": null,
            "align_self": null,
            "border": null,
            "bottom": null,
            "display": null,
            "flex": null,
            "flex_flow": null,
            "grid_area": null,
            "grid_auto_columns": null,
            "grid_auto_flow": null,
            "grid_auto_rows": null,
            "grid_column": null,
            "grid_gap": null,
            "grid_row": null,
            "grid_template_areas": null,
            "grid_template_columns": null,
            "grid_template_rows": null,
            "height": null,
            "justify_content": null,
            "justify_items": null,
            "left": null,
            "margin": null,
            "max_height": null,
            "max_width": null,
            "min_height": null,
            "min_width": null,
            "object_fit": null,
            "object_position": null,
            "order": null,
            "overflow": null,
            "overflow_x": null,
            "overflow_y": null,
            "padding": null,
            "right": null,
            "top": null,
            "visibility": null,
            "width": null
          }
        },
        "ce9e0337eebf49b4b5c18ff89470022f": {
          "model_module": "@jupyter-widgets/controls",
          "model_name": "DescriptionStyleModel",
          "model_module_version": "1.5.0",
          "state": {
            "_model_module": "@jupyter-widgets/controls",
            "_model_module_version": "1.5.0",
            "_model_name": "DescriptionStyleModel",
            "_view_count": null,
            "_view_module": "@jupyter-widgets/base",
            "_view_module_version": "1.2.0",
            "_view_name": "StyleView",
            "description_width": ""
          }
        },
        "37e3380707544587af6ac1490fd229da": {
          "model_module": "@jupyter-widgets/base",
          "model_name": "LayoutModel",
          "model_module_version": "1.2.0",
          "state": {
            "_model_module": "@jupyter-widgets/base",
            "_model_module_version": "1.2.0",
            "_model_name": "LayoutModel",
            "_view_count": null,
            "_view_module": "@jupyter-widgets/base",
            "_view_module_version": "1.2.0",
            "_view_name": "LayoutView",
            "align_content": null,
            "align_items": null,
            "align_self": null,
            "border": null,
            "bottom": null,
            "display": null,
            "flex": null,
            "flex_flow": null,
            "grid_area": null,
            "grid_auto_columns": null,
            "grid_auto_flow": null,
            "grid_auto_rows": null,
            "grid_column": null,
            "grid_gap": null,
            "grid_row": null,
            "grid_template_areas": null,
            "grid_template_columns": null,
            "grid_template_rows": null,
            "height": null,
            "justify_content": null,
            "justify_items": null,
            "left": null,
            "margin": null,
            "max_height": null,
            "max_width": null,
            "min_height": null,
            "min_width": null,
            "object_fit": null,
            "object_position": null,
            "order": null,
            "overflow": null,
            "overflow_x": null,
            "overflow_y": null,
            "padding": null,
            "right": null,
            "top": null,
            "visibility": null,
            "width": null
          }
        },
        "25f9675851344e9aadcbe0e46d5e7587": {
          "model_module": "@jupyter-widgets/controls",
          "model_name": "ProgressStyleModel",
          "model_module_version": "1.5.0",
          "state": {
            "_model_module": "@jupyter-widgets/controls",
            "_model_module_version": "1.5.0",
            "_model_name": "ProgressStyleModel",
            "_view_count": null,
            "_view_module": "@jupyter-widgets/base",
            "_view_module_version": "1.2.0",
            "_view_name": "StyleView",
            "bar_color": null,
            "description_width": ""
          }
        },
        "8789dfe0bd464962ac12cbf75c17a1a1": {
          "model_module": "@jupyter-widgets/base",
          "model_name": "LayoutModel",
          "model_module_version": "1.2.0",
          "state": {
            "_model_module": "@jupyter-widgets/base",
            "_model_module_version": "1.2.0",
            "_model_name": "LayoutModel",
            "_view_count": null,
            "_view_module": "@jupyter-widgets/base",
            "_view_module_version": "1.2.0",
            "_view_name": "LayoutView",
            "align_content": null,
            "align_items": null,
            "align_self": null,
            "border": null,
            "bottom": null,
            "display": null,
            "flex": null,
            "flex_flow": null,
            "grid_area": null,
            "grid_auto_columns": null,
            "grid_auto_flow": null,
            "grid_auto_rows": null,
            "grid_column": null,
            "grid_gap": null,
            "grid_row": null,
            "grid_template_areas": null,
            "grid_template_columns": null,
            "grid_template_rows": null,
            "height": null,
            "justify_content": null,
            "justify_items": null,
            "left": null,
            "margin": null,
            "max_height": null,
            "max_width": null,
            "min_height": null,
            "min_width": null,
            "object_fit": null,
            "object_position": null,
            "order": null,
            "overflow": null,
            "overflow_x": null,
            "overflow_y": null,
            "padding": null,
            "right": null,
            "top": null,
            "visibility": null,
            "width": null
          }
        },
        "5b4566bf11ff44bbb395b3a7316cd796": {
          "model_module": "@jupyter-widgets/controls",
          "model_name": "DescriptionStyleModel",
          "model_module_version": "1.5.0",
          "state": {
            "_model_module": "@jupyter-widgets/controls",
            "_model_module_version": "1.5.0",
            "_model_name": "DescriptionStyleModel",
            "_view_count": null,
            "_view_module": "@jupyter-widgets/base",
            "_view_module_version": "1.2.0",
            "_view_name": "StyleView",
            "description_width": ""
          }
        },
        "9370b330f0594064ba10e2bcafee5a19": {
          "model_module": "@jupyter-widgets/controls",
          "model_name": "HBoxModel",
          "model_module_version": "1.5.0",
          "state": {
            "_dom_classes": [],
            "_model_module": "@jupyter-widgets/controls",
            "_model_module_version": "1.5.0",
            "_model_name": "HBoxModel",
            "_view_count": null,
            "_view_module": "@jupyter-widgets/controls",
            "_view_module_version": "1.5.0",
            "_view_name": "HBoxView",
            "box_style": "",
            "children": [
              "IPY_MODEL_e59a0bca9c594044975de9bbdf34fbb8",
              "IPY_MODEL_1b32f1cf79fd4548895ddbc327b2187e",
              "IPY_MODEL_6dbfeb6ee1bd4630999c4e7555c04ed9"
            ],
            "layout": "IPY_MODEL_9a90971602ec4cb7827d4c64b1dbada0"
          }
        },
        "e59a0bca9c594044975de9bbdf34fbb8": {
          "model_module": "@jupyter-widgets/controls",
          "model_name": "HTMLModel",
          "model_module_version": "1.5.0",
          "state": {
            "_dom_classes": [],
            "_model_module": "@jupyter-widgets/controls",
            "_model_module_version": "1.5.0",
            "_model_name": "HTMLModel",
            "_view_count": null,
            "_view_module": "@jupyter-widgets/controls",
            "_view_module_version": "1.5.0",
            "_view_name": "HTMLView",
            "description": "",
            "description_tooltip": null,
            "layout": "IPY_MODEL_7078a58059244e6b8bac9da41a1c20c7",
            "placeholder": "​",
            "style": "IPY_MODEL_fda8d648e0fa455fa1124f301a4eda13",
            "value": "Downloading https://huggingface.co/stanfordnlp/stanza-en/resolve/v1.10.0/models/default.zip: 100%"
          }
        },
        "1b32f1cf79fd4548895ddbc327b2187e": {
          "model_module": "@jupyter-widgets/controls",
          "model_name": "FloatProgressModel",
          "model_module_version": "1.5.0",
          "state": {
            "_dom_classes": [],
            "_model_module": "@jupyter-widgets/controls",
            "_model_module_version": "1.5.0",
            "_model_name": "FloatProgressModel",
            "_view_count": null,
            "_view_module": "@jupyter-widgets/controls",
            "_view_module_version": "1.5.0",
            "_view_name": "ProgressView",
            "bar_style": "success",
            "description": "",
            "description_tooltip": null,
            "layout": "IPY_MODEL_c91f5fc1b6a544f090ed19673ba40fa1",
            "max": 526251983,
            "min": 0,
            "orientation": "horizontal",
            "style": "IPY_MODEL_7182600796154b6f96df0ae8ae2708a9",
            "value": 526251983
          }
        },
        "6dbfeb6ee1bd4630999c4e7555c04ed9": {
          "model_module": "@jupyter-widgets/controls",
          "model_name": "HTMLModel",
          "model_module_version": "1.5.0",
          "state": {
            "_dom_classes": [],
            "_model_module": "@jupyter-widgets/controls",
            "_model_module_version": "1.5.0",
            "_model_name": "HTMLModel",
            "_view_count": null,
            "_view_module": "@jupyter-widgets/controls",
            "_view_module_version": "1.5.0",
            "_view_name": "HTMLView",
            "description": "",
            "description_tooltip": null,
            "layout": "IPY_MODEL_b2000094f6fb48de9fd7fb985f0dd3c6",
            "placeholder": "​",
            "style": "IPY_MODEL_1e86ef5a6a4a43e4aecea200ce6a42d6",
            "value": " 526M/526M [00:01&lt;00:00, 314MB/s]"
          }
        },
        "9a90971602ec4cb7827d4c64b1dbada0": {
          "model_module": "@jupyter-widgets/base",
          "model_name": "LayoutModel",
          "model_module_version": "1.2.0",
          "state": {
            "_model_module": "@jupyter-widgets/base",
            "_model_module_version": "1.2.0",
            "_model_name": "LayoutModel",
            "_view_count": null,
            "_view_module": "@jupyter-widgets/base",
            "_view_module_version": "1.2.0",
            "_view_name": "LayoutView",
            "align_content": null,
            "align_items": null,
            "align_self": null,
            "border": null,
            "bottom": null,
            "display": null,
            "flex": null,
            "flex_flow": null,
            "grid_area": null,
            "grid_auto_columns": null,
            "grid_auto_flow": null,
            "grid_auto_rows": null,
            "grid_column": null,
            "grid_gap": null,
            "grid_row": null,
            "grid_template_areas": null,
            "grid_template_columns": null,
            "grid_template_rows": null,
            "height": null,
            "justify_content": null,
            "justify_items": null,
            "left": null,
            "margin": null,
            "max_height": null,
            "max_width": null,
            "min_height": null,
            "min_width": null,
            "object_fit": null,
            "object_position": null,
            "order": null,
            "overflow": null,
            "overflow_x": null,
            "overflow_y": null,
            "padding": null,
            "right": null,
            "top": null,
            "visibility": null,
            "width": null
          }
        },
        "7078a58059244e6b8bac9da41a1c20c7": {
          "model_module": "@jupyter-widgets/base",
          "model_name": "LayoutModel",
          "model_module_version": "1.2.0",
          "state": {
            "_model_module": "@jupyter-widgets/base",
            "_model_module_version": "1.2.0",
            "_model_name": "LayoutModel",
            "_view_count": null,
            "_view_module": "@jupyter-widgets/base",
            "_view_module_version": "1.2.0",
            "_view_name": "LayoutView",
            "align_content": null,
            "align_items": null,
            "align_self": null,
            "border": null,
            "bottom": null,
            "display": null,
            "flex": null,
            "flex_flow": null,
            "grid_area": null,
            "grid_auto_columns": null,
            "grid_auto_flow": null,
            "grid_auto_rows": null,
            "grid_column": null,
            "grid_gap": null,
            "grid_row": null,
            "grid_template_areas": null,
            "grid_template_columns": null,
            "grid_template_rows": null,
            "height": null,
            "justify_content": null,
            "justify_items": null,
            "left": null,
            "margin": null,
            "max_height": null,
            "max_width": null,
            "min_height": null,
            "min_width": null,
            "object_fit": null,
            "object_position": null,
            "order": null,
            "overflow": null,
            "overflow_x": null,
            "overflow_y": null,
            "padding": null,
            "right": null,
            "top": null,
            "visibility": null,
            "width": null
          }
        },
        "fda8d648e0fa455fa1124f301a4eda13": {
          "model_module": "@jupyter-widgets/controls",
          "model_name": "DescriptionStyleModel",
          "model_module_version": "1.5.0",
          "state": {
            "_model_module": "@jupyter-widgets/controls",
            "_model_module_version": "1.5.0",
            "_model_name": "DescriptionStyleModel",
            "_view_count": null,
            "_view_module": "@jupyter-widgets/base",
            "_view_module_version": "1.2.0",
            "_view_name": "StyleView",
            "description_width": ""
          }
        },
        "c91f5fc1b6a544f090ed19673ba40fa1": {
          "model_module": "@jupyter-widgets/base",
          "model_name": "LayoutModel",
          "model_module_version": "1.2.0",
          "state": {
            "_model_module": "@jupyter-widgets/base",
            "_model_module_version": "1.2.0",
            "_model_name": "LayoutModel",
            "_view_count": null,
            "_view_module": "@jupyter-widgets/base",
            "_view_module_version": "1.2.0",
            "_view_name": "LayoutView",
            "align_content": null,
            "align_items": null,
            "align_self": null,
            "border": null,
            "bottom": null,
            "display": null,
            "flex": null,
            "flex_flow": null,
            "grid_area": null,
            "grid_auto_columns": null,
            "grid_auto_flow": null,
            "grid_auto_rows": null,
            "grid_column": null,
            "grid_gap": null,
            "grid_row": null,
            "grid_template_areas": null,
            "grid_template_columns": null,
            "grid_template_rows": null,
            "height": null,
            "justify_content": null,
            "justify_items": null,
            "left": null,
            "margin": null,
            "max_height": null,
            "max_width": null,
            "min_height": null,
            "min_width": null,
            "object_fit": null,
            "object_position": null,
            "order": null,
            "overflow": null,
            "overflow_x": null,
            "overflow_y": null,
            "padding": null,
            "right": null,
            "top": null,
            "visibility": null,
            "width": null
          }
        },
        "7182600796154b6f96df0ae8ae2708a9": {
          "model_module": "@jupyter-widgets/controls",
          "model_name": "ProgressStyleModel",
          "model_module_version": "1.5.0",
          "state": {
            "_model_module": "@jupyter-widgets/controls",
            "_model_module_version": "1.5.0",
            "_model_name": "ProgressStyleModel",
            "_view_count": null,
            "_view_module": "@jupyter-widgets/base",
            "_view_module_version": "1.2.0",
            "_view_name": "StyleView",
            "bar_color": null,
            "description_width": ""
          }
        },
        "b2000094f6fb48de9fd7fb985f0dd3c6": {
          "model_module": "@jupyter-widgets/base",
          "model_name": "LayoutModel",
          "model_module_version": "1.2.0",
          "state": {
            "_model_module": "@jupyter-widgets/base",
            "_model_module_version": "1.2.0",
            "_model_name": "LayoutModel",
            "_view_count": null,
            "_view_module": "@jupyter-widgets/base",
            "_view_module_version": "1.2.0",
            "_view_name": "LayoutView",
            "align_content": null,
            "align_items": null,
            "align_self": null,
            "border": null,
            "bottom": null,
            "display": null,
            "flex": null,
            "flex_flow": null,
            "grid_area": null,
            "grid_auto_columns": null,
            "grid_auto_flow": null,
            "grid_auto_rows": null,
            "grid_column": null,
            "grid_gap": null,
            "grid_row": null,
            "grid_template_areas": null,
            "grid_template_columns": null,
            "grid_template_rows": null,
            "height": null,
            "justify_content": null,
            "justify_items": null,
            "left": null,
            "margin": null,
            "max_height": null,
            "max_width": null,
            "min_height": null,
            "min_width": null,
            "object_fit": null,
            "object_position": null,
            "order": null,
            "overflow": null,
            "overflow_x": null,
            "overflow_y": null,
            "padding": null,
            "right": null,
            "top": null,
            "visibility": null,
            "width": null
          }
        },
        "1e86ef5a6a4a43e4aecea200ce6a42d6": {
          "model_module": "@jupyter-widgets/controls",
          "model_name": "DescriptionStyleModel",
          "model_module_version": "1.5.0",
          "state": {
            "_model_module": "@jupyter-widgets/controls",
            "_model_module_version": "1.5.0",
            "_model_name": "DescriptionStyleModel",
            "_view_count": null,
            "_view_module": "@jupyter-widgets/base",
            "_view_module_version": "1.2.0",
            "_view_name": "StyleView",
            "description_width": ""
          }
        },
        "7e010ca0daf545e499c6466b9edcd27b": {
          "model_module": "@jupyter-widgets/controls",
          "model_name": "HBoxModel",
          "model_module_version": "1.5.0",
          "state": {
            "_dom_classes": [],
            "_model_module": "@jupyter-widgets/controls",
            "_model_module_version": "1.5.0",
            "_model_name": "HBoxModel",
            "_view_count": null,
            "_view_module": "@jupyter-widgets/controls",
            "_view_module_version": "1.5.0",
            "_view_name": "HBoxView",
            "box_style": "",
            "children": [
              "IPY_MODEL_d0292720de744f9198b1810917ee7f61",
              "IPY_MODEL_316286bd1ea24c9fb437bd867a303d80",
              "IPY_MODEL_c087c3b256644395917ea05e3e230aa4"
            ],
            "layout": "IPY_MODEL_57c230089a844aeaac52b814186a170f"
          }
        },
        "d0292720de744f9198b1810917ee7f61": {
          "model_module": "@jupyter-widgets/controls",
          "model_name": "HTMLModel",
          "model_module_version": "1.5.0",
          "state": {
            "_dom_classes": [],
            "_model_module": "@jupyter-widgets/controls",
            "_model_module_version": "1.5.0",
            "_model_name": "HTMLModel",
            "_view_count": null,
            "_view_module": "@jupyter-widgets/controls",
            "_view_module_version": "1.5.0",
            "_view_name": "HTMLView",
            "description": "",
            "description_tooltip": null,
            "layout": "IPY_MODEL_288dd6a328ca414ab01c86c77749e466",
            "placeholder": "​",
            "style": "IPY_MODEL_b994cf5c12fa47c9a77672bc68332094",
            "value": "Downloading https://raw.githubusercontent.com/stanfordnlp/stanza-resources/main/resources_1.10.0.json: "
          }
        },
        "316286bd1ea24c9fb437bd867a303d80": {
          "model_module": "@jupyter-widgets/controls",
          "model_name": "FloatProgressModel",
          "model_module_version": "1.5.0",
          "state": {
            "_dom_classes": [],
            "_model_module": "@jupyter-widgets/controls",
            "_model_module_version": "1.5.0",
            "_model_name": "FloatProgressModel",
            "_view_count": null,
            "_view_module": "@jupyter-widgets/controls",
            "_view_module_version": "1.5.0",
            "_view_name": "ProgressView",
            "bar_style": "success",
            "description": "",
            "description_tooltip": null,
            "layout": "IPY_MODEL_7f95b3c2ddc7481e8a62cd0bcf7c4ede",
            "max": 52741,
            "min": 0,
            "orientation": "horizontal",
            "style": "IPY_MODEL_9b850fd2a9c242bb84abe35f88e8f73f",
            "value": 52741
          }
        },
        "c087c3b256644395917ea05e3e230aa4": {
          "model_module": "@jupyter-widgets/controls",
          "model_name": "HTMLModel",
          "model_module_version": "1.5.0",
          "state": {
            "_dom_classes": [],
            "_model_module": "@jupyter-widgets/controls",
            "_model_module_version": "1.5.0",
            "_model_name": "HTMLModel",
            "_view_count": null,
            "_view_module": "@jupyter-widgets/controls",
            "_view_module_version": "1.5.0",
            "_view_name": "HTMLView",
            "description": "",
            "description_tooltip": null,
            "layout": "IPY_MODEL_daf4e254881044a59cf97e5139a38e72",
            "placeholder": "​",
            "style": "IPY_MODEL_e8862eb080f947159821cd5e29606f98",
            "value": " 426k/? [00:00&lt;00:00, 22.2MB/s]"
          }
        },
        "57c230089a844aeaac52b814186a170f": {
          "model_module": "@jupyter-widgets/base",
          "model_name": "LayoutModel",
          "model_module_version": "1.2.0",
          "state": {
            "_model_module": "@jupyter-widgets/base",
            "_model_module_version": "1.2.0",
            "_model_name": "LayoutModel",
            "_view_count": null,
            "_view_module": "@jupyter-widgets/base",
            "_view_module_version": "1.2.0",
            "_view_name": "LayoutView",
            "align_content": null,
            "align_items": null,
            "align_self": null,
            "border": null,
            "bottom": null,
            "display": null,
            "flex": null,
            "flex_flow": null,
            "grid_area": null,
            "grid_auto_columns": null,
            "grid_auto_flow": null,
            "grid_auto_rows": null,
            "grid_column": null,
            "grid_gap": null,
            "grid_row": null,
            "grid_template_areas": null,
            "grid_template_columns": null,
            "grid_template_rows": null,
            "height": null,
            "justify_content": null,
            "justify_items": null,
            "left": null,
            "margin": null,
            "max_height": null,
            "max_width": null,
            "min_height": null,
            "min_width": null,
            "object_fit": null,
            "object_position": null,
            "order": null,
            "overflow": null,
            "overflow_x": null,
            "overflow_y": null,
            "padding": null,
            "right": null,
            "top": null,
            "visibility": null,
            "width": null
          }
        },
        "288dd6a328ca414ab01c86c77749e466": {
          "model_module": "@jupyter-widgets/base",
          "model_name": "LayoutModel",
          "model_module_version": "1.2.0",
          "state": {
            "_model_module": "@jupyter-widgets/base",
            "_model_module_version": "1.2.0",
            "_model_name": "LayoutModel",
            "_view_count": null,
            "_view_module": "@jupyter-widgets/base",
            "_view_module_version": "1.2.0",
            "_view_name": "LayoutView",
            "align_content": null,
            "align_items": null,
            "align_self": null,
            "border": null,
            "bottom": null,
            "display": null,
            "flex": null,
            "flex_flow": null,
            "grid_area": null,
            "grid_auto_columns": null,
            "grid_auto_flow": null,
            "grid_auto_rows": null,
            "grid_column": null,
            "grid_gap": null,
            "grid_row": null,
            "grid_template_areas": null,
            "grid_template_columns": null,
            "grid_template_rows": null,
            "height": null,
            "justify_content": null,
            "justify_items": null,
            "left": null,
            "margin": null,
            "max_height": null,
            "max_width": null,
            "min_height": null,
            "min_width": null,
            "object_fit": null,
            "object_position": null,
            "order": null,
            "overflow": null,
            "overflow_x": null,
            "overflow_y": null,
            "padding": null,
            "right": null,
            "top": null,
            "visibility": null,
            "width": null
          }
        },
        "b994cf5c12fa47c9a77672bc68332094": {
          "model_module": "@jupyter-widgets/controls",
          "model_name": "DescriptionStyleModel",
          "model_module_version": "1.5.0",
          "state": {
            "_model_module": "@jupyter-widgets/controls",
            "_model_module_version": "1.5.0",
            "_model_name": "DescriptionStyleModel",
            "_view_count": null,
            "_view_module": "@jupyter-widgets/base",
            "_view_module_version": "1.2.0",
            "_view_name": "StyleView",
            "description_width": ""
          }
        },
        "7f95b3c2ddc7481e8a62cd0bcf7c4ede": {
          "model_module": "@jupyter-widgets/base",
          "model_name": "LayoutModel",
          "model_module_version": "1.2.0",
          "state": {
            "_model_module": "@jupyter-widgets/base",
            "_model_module_version": "1.2.0",
            "_model_name": "LayoutModel",
            "_view_count": null,
            "_view_module": "@jupyter-widgets/base",
            "_view_module_version": "1.2.0",
            "_view_name": "LayoutView",
            "align_content": null,
            "align_items": null,
            "align_self": null,
            "border": null,
            "bottom": null,
            "display": null,
            "flex": null,
            "flex_flow": null,
            "grid_area": null,
            "grid_auto_columns": null,
            "grid_auto_flow": null,
            "grid_auto_rows": null,
            "grid_column": null,
            "grid_gap": null,
            "grid_row": null,
            "grid_template_areas": null,
            "grid_template_columns": null,
            "grid_template_rows": null,
            "height": null,
            "justify_content": null,
            "justify_items": null,
            "left": null,
            "margin": null,
            "max_height": null,
            "max_width": null,
            "min_height": null,
            "min_width": null,
            "object_fit": null,
            "object_position": null,
            "order": null,
            "overflow": null,
            "overflow_x": null,
            "overflow_y": null,
            "padding": null,
            "right": null,
            "top": null,
            "visibility": null,
            "width": null
          }
        },
        "9b850fd2a9c242bb84abe35f88e8f73f": {
          "model_module": "@jupyter-widgets/controls",
          "model_name": "ProgressStyleModel",
          "model_module_version": "1.5.0",
          "state": {
            "_model_module": "@jupyter-widgets/controls",
            "_model_module_version": "1.5.0",
            "_model_name": "ProgressStyleModel",
            "_view_count": null,
            "_view_module": "@jupyter-widgets/base",
            "_view_module_version": "1.2.0",
            "_view_name": "StyleView",
            "bar_color": null,
            "description_width": ""
          }
        },
        "daf4e254881044a59cf97e5139a38e72": {
          "model_module": "@jupyter-widgets/base",
          "model_name": "LayoutModel",
          "model_module_version": "1.2.0",
          "state": {
            "_model_module": "@jupyter-widgets/base",
            "_model_module_version": "1.2.0",
            "_model_name": "LayoutModel",
            "_view_count": null,
            "_view_module": "@jupyter-widgets/base",
            "_view_module_version": "1.2.0",
            "_view_name": "LayoutView",
            "align_content": null,
            "align_items": null,
            "align_self": null,
            "border": null,
            "bottom": null,
            "display": null,
            "flex": null,
            "flex_flow": null,
            "grid_area": null,
            "grid_auto_columns": null,
            "grid_auto_flow": null,
            "grid_auto_rows": null,
            "grid_column": null,
            "grid_gap": null,
            "grid_row": null,
            "grid_template_areas": null,
            "grid_template_columns": null,
            "grid_template_rows": null,
            "height": null,
            "justify_content": null,
            "justify_items": null,
            "left": null,
            "margin": null,
            "max_height": null,
            "max_width": null,
            "min_height": null,
            "min_width": null,
            "object_fit": null,
            "object_position": null,
            "order": null,
            "overflow": null,
            "overflow_x": null,
            "overflow_y": null,
            "padding": null,
            "right": null,
            "top": null,
            "visibility": null,
            "width": null
          }
        },
        "e8862eb080f947159821cd5e29606f98": {
          "model_module": "@jupyter-widgets/controls",
          "model_name": "DescriptionStyleModel",
          "model_module_version": "1.5.0",
          "state": {
            "_model_module": "@jupyter-widgets/controls",
            "_model_module_version": "1.5.0",
            "_model_name": "DescriptionStyleModel",
            "_view_count": null,
            "_view_module": "@jupyter-widgets/base",
            "_view_module_version": "1.2.0",
            "_view_name": "StyleView",
            "description_width": ""
          }
        }
      }
    },
    "accelerator": "GPU"
  },
  "cells": [
    {
      "cell_type": "markdown",
      "source": [
        "# Using stanza for Named Entity Recognition (continued)"
      ],
      "metadata": {
        "id": "2tbNoIl16xA9"
      }
    },
    {
      "cell_type": "markdown",
      "source": [
        "## Installation\n",
        "\n",
        "Run the code cell below to install stanza:"
      ],
      "metadata": {
        "id": "C_w9oKkP62F1"
      }
    },
    {
      "cell_type": "code",
      "source": [
        "!pip install stanza"
      ],
      "metadata": {
        "id": "d2Vhkyt75hm-",
        "colab": {
          "base_uri": "https://localhost:8080/"
        },
        "outputId": "df2642b7-f720-4134-ac5c-55147c20fa0e"
      },
      "execution_count": null,
      "outputs": [
        {
          "output_type": "stream",
          "name": "stdout",
          "text": [
            "Collecting stanza\n",
            "  Downloading stanza-1.10.1-py3-none-any.whl.metadata (13 kB)\n",
            "Collecting emoji (from stanza)\n",
            "  Downloading emoji-2.14.1-py3-none-any.whl.metadata (5.7 kB)\n",
            "Requirement already satisfied: numpy in /usr/local/lib/python3.11/dist-packages (from stanza) (2.0.2)\n",
            "Requirement already satisfied: protobuf>=3.15.0 in /usr/local/lib/python3.11/dist-packages (from stanza) (5.29.4)\n",
            "Requirement already satisfied: requests in /usr/local/lib/python3.11/dist-packages (from stanza) (2.32.3)\n",
            "Requirement already satisfied: networkx in /usr/local/lib/python3.11/dist-packages (from stanza) (3.4.2)\n",
            "Requirement already satisfied: torch>=1.3.0 in /usr/local/lib/python3.11/dist-packages (from stanza) (2.6.0+cu124)\n",
            "Requirement already satisfied: tqdm in /usr/local/lib/python3.11/dist-packages (from stanza) (4.67.1)\n",
            "Requirement already satisfied: filelock in /usr/local/lib/python3.11/dist-packages (from torch>=1.3.0->stanza) (3.18.0)\n",
            "Requirement already satisfied: typing-extensions>=4.10.0 in /usr/local/lib/python3.11/dist-packages (from torch>=1.3.0->stanza) (4.13.2)\n",
            "Requirement already satisfied: jinja2 in /usr/local/lib/python3.11/dist-packages (from torch>=1.3.0->stanza) (3.1.6)\n",
            "Requirement already satisfied: fsspec in /usr/local/lib/python3.11/dist-packages (from torch>=1.3.0->stanza) (2025.3.2)\n",
            "Collecting nvidia-cuda-nvrtc-cu12==12.4.127 (from torch>=1.3.0->stanza)\n",
            "  Downloading nvidia_cuda_nvrtc_cu12-12.4.127-py3-none-manylinux2014_x86_64.whl.metadata (1.5 kB)\n",
            "Collecting nvidia-cuda-runtime-cu12==12.4.127 (from torch>=1.3.0->stanza)\n",
            "  Downloading nvidia_cuda_runtime_cu12-12.4.127-py3-none-manylinux2014_x86_64.whl.metadata (1.5 kB)\n",
            "Collecting nvidia-cuda-cupti-cu12==12.4.127 (from torch>=1.3.0->stanza)\n",
            "  Downloading nvidia_cuda_cupti_cu12-12.4.127-py3-none-manylinux2014_x86_64.whl.metadata (1.6 kB)\n",
            "Collecting nvidia-cudnn-cu12==9.1.0.70 (from torch>=1.3.0->stanza)\n",
            "  Downloading nvidia_cudnn_cu12-9.1.0.70-py3-none-manylinux2014_x86_64.whl.metadata (1.6 kB)\n",
            "Collecting nvidia-cublas-cu12==12.4.5.8 (from torch>=1.3.0->stanza)\n",
            "  Downloading nvidia_cublas_cu12-12.4.5.8-py3-none-manylinux2014_x86_64.whl.metadata (1.5 kB)\n",
            "Collecting nvidia-cufft-cu12==11.2.1.3 (from torch>=1.3.0->stanza)\n",
            "  Downloading nvidia_cufft_cu12-11.2.1.3-py3-none-manylinux2014_x86_64.whl.metadata (1.5 kB)\n",
            "Collecting nvidia-curand-cu12==10.3.5.147 (from torch>=1.3.0->stanza)\n",
            "  Downloading nvidia_curand_cu12-10.3.5.147-py3-none-manylinux2014_x86_64.whl.metadata (1.5 kB)\n",
            "Collecting nvidia-cusolver-cu12==11.6.1.9 (from torch>=1.3.0->stanza)\n",
            "  Downloading nvidia_cusolver_cu12-11.6.1.9-py3-none-manylinux2014_x86_64.whl.metadata (1.6 kB)\n",
            "Collecting nvidia-cusparse-cu12==12.3.1.170 (from torch>=1.3.0->stanza)\n",
            "  Downloading nvidia_cusparse_cu12-12.3.1.170-py3-none-manylinux2014_x86_64.whl.metadata (1.6 kB)\n",
            "Requirement already satisfied: nvidia-cusparselt-cu12==0.6.2 in /usr/local/lib/python3.11/dist-packages (from torch>=1.3.0->stanza) (0.6.2)\n",
            "Requirement already satisfied: nvidia-nccl-cu12==2.21.5 in /usr/local/lib/python3.11/dist-packages (from torch>=1.3.0->stanza) (2.21.5)\n",
            "Requirement already satisfied: nvidia-nvtx-cu12==12.4.127 in /usr/local/lib/python3.11/dist-packages (from torch>=1.3.0->stanza) (12.4.127)\n",
            "Collecting nvidia-nvjitlink-cu12==12.4.127 (from torch>=1.3.0->stanza)\n",
            "  Downloading nvidia_nvjitlink_cu12-12.4.127-py3-none-manylinux2014_x86_64.whl.metadata (1.5 kB)\n",
            "Requirement already satisfied: triton==3.2.0 in /usr/local/lib/python3.11/dist-packages (from torch>=1.3.0->stanza) (3.2.0)\n",
            "Requirement already satisfied: sympy==1.13.1 in /usr/local/lib/python3.11/dist-packages (from torch>=1.3.0->stanza) (1.13.1)\n",
            "Requirement already satisfied: mpmath<1.4,>=1.1.0 in /usr/local/lib/python3.11/dist-packages (from sympy==1.13.1->torch>=1.3.0->stanza) (1.3.0)\n",
            "Requirement already satisfied: charset-normalizer<4,>=2 in /usr/local/lib/python3.11/dist-packages (from requests->stanza) (3.4.1)\n",
            "Requirement already satisfied: idna<4,>=2.5 in /usr/local/lib/python3.11/dist-packages (from requests->stanza) (3.10)\n",
            "Requirement already satisfied: urllib3<3,>=1.21.1 in /usr/local/lib/python3.11/dist-packages (from requests->stanza) (2.3.0)\n",
            "Requirement already satisfied: certifi>=2017.4.17 in /usr/local/lib/python3.11/dist-packages (from requests->stanza) (2025.1.31)\n",
            "Requirement already satisfied: MarkupSafe>=2.0 in /usr/local/lib/python3.11/dist-packages (from jinja2->torch>=1.3.0->stanza) (3.0.2)\n",
            "Downloading stanza-1.10.1-py3-none-any.whl (1.1 MB)\n",
            "\u001b[2K   \u001b[90m━━━━━━━━━━━━━━━━━━━━━━━━━━━━━━━━━━━━━━━━\u001b[0m \u001b[32m1.1/1.1 MB\u001b[0m \u001b[31m14.7 MB/s\u001b[0m eta \u001b[36m0:00:00\u001b[0m\n",
            "\u001b[?25hDownloading nvidia_cublas_cu12-12.4.5.8-py3-none-manylinux2014_x86_64.whl (363.4 MB)\n",
            "\u001b[2K   \u001b[90m━━━━━━━━━━━━━━━━━━━━━━━━━━━━━━━━━━━━━━━━\u001b[0m \u001b[32m363.4/363.4 MB\u001b[0m \u001b[31m4.2 MB/s\u001b[0m eta \u001b[36m0:00:00\u001b[0m\n",
            "\u001b[?25hDownloading nvidia_cuda_cupti_cu12-12.4.127-py3-none-manylinux2014_x86_64.whl (13.8 MB)\n",
            "\u001b[2K   \u001b[90m━━━━━━━━━━━━━━━━━━━━━━━━━━━━━━━━━━━━━━━━\u001b[0m \u001b[32m13.8/13.8 MB\u001b[0m \u001b[31m71.8 MB/s\u001b[0m eta \u001b[36m0:00:00\u001b[0m\n",
            "\u001b[?25hDownloading nvidia_cuda_nvrtc_cu12-12.4.127-py3-none-manylinux2014_x86_64.whl (24.6 MB)\n",
            "\u001b[2K   \u001b[90m━━━━━━━━━━━━━━━━━━━━━━━━━━━━━━━━━━━━━━━━\u001b[0m \u001b[32m24.6/24.6 MB\u001b[0m \u001b[31m68.7 MB/s\u001b[0m eta \u001b[36m0:00:00\u001b[0m\n",
            "\u001b[?25hDownloading nvidia_cuda_runtime_cu12-12.4.127-py3-none-manylinux2014_x86_64.whl (883 kB)\n",
            "\u001b[2K   \u001b[90m━━━━━━━━━━━━━━━━━━━━━━━━━━━━━━━━━━━━━━━━\u001b[0m \u001b[32m883.7/883.7 kB\u001b[0m \u001b[31m43.6 MB/s\u001b[0m eta \u001b[36m0:00:00\u001b[0m\n",
            "\u001b[?25hDownloading nvidia_cudnn_cu12-9.1.0.70-py3-none-manylinux2014_x86_64.whl (664.8 MB)\n",
            "\u001b[2K   \u001b[90m━━━━━━━━━━━━━━━━━━━━━━━━━━━━━━━━━━━━━━━━\u001b[0m \u001b[32m664.8/664.8 MB\u001b[0m \u001b[31m2.2 MB/s\u001b[0m eta \u001b[36m0:00:00\u001b[0m\n",
            "\u001b[?25hDownloading nvidia_cufft_cu12-11.2.1.3-py3-none-manylinux2014_x86_64.whl (211.5 MB)\n",
            "\u001b[2K   \u001b[90m━━━━━━━━━━━━━━━━━━━━━━━━━━━━━━━━━━━━━━━━\u001b[0m \u001b[32m211.5/211.5 MB\u001b[0m \u001b[31m5.5 MB/s\u001b[0m eta \u001b[36m0:00:00\u001b[0m\n",
            "\u001b[?25hDownloading nvidia_curand_cu12-10.3.5.147-py3-none-manylinux2014_x86_64.whl (56.3 MB)\n",
            "\u001b[2K   \u001b[90m━━━━━━━━━━━━━━━━━━━━━━━━━━━━━━━━━━━━━━━━\u001b[0m \u001b[32m56.3/56.3 MB\u001b[0m \u001b[31m12.7 MB/s\u001b[0m eta \u001b[36m0:00:00\u001b[0m\n",
            "\u001b[?25hDownloading nvidia_cusolver_cu12-11.6.1.9-py3-none-manylinux2014_x86_64.whl (127.9 MB)\n",
            "\u001b[2K   \u001b[90m━━━━━━━━━━━━━━━━━━━━━━━━━━━━━━━━━━━━━━━━\u001b[0m \u001b[32m127.9/127.9 MB\u001b[0m \u001b[31m7.5 MB/s\u001b[0m eta \u001b[36m0:00:00\u001b[0m\n",
            "\u001b[?25hDownloading nvidia_cusparse_cu12-12.3.1.170-py3-none-manylinux2014_x86_64.whl (207.5 MB)\n",
            "\u001b[2K   \u001b[90m━━━━━━━━━━━━━━━━━━━━━━━━━━━━━━━━━━━━━━━━\u001b[0m \u001b[32m207.5/207.5 MB\u001b[0m \u001b[31m5.2 MB/s\u001b[0m eta \u001b[36m0:00:00\u001b[0m\n",
            "\u001b[?25hDownloading nvidia_nvjitlink_cu12-12.4.127-py3-none-manylinux2014_x86_64.whl (21.1 MB)\n",
            "\u001b[2K   \u001b[90m━━━━━━━━━━━━━━━━━━━━━━━━━━━━━━━━━━━━━━━━\u001b[0m \u001b[32m21.1/21.1 MB\u001b[0m \u001b[31m42.6 MB/s\u001b[0m eta \u001b[36m0:00:00\u001b[0m\n",
            "\u001b[?25hDownloading emoji-2.14.1-py3-none-any.whl (590 kB)\n",
            "\u001b[2K   \u001b[90m━━━━━━━━━━━━━━━━━━━━━━━━━━━━━━━━━━━━━━━━\u001b[0m \u001b[32m590.6/590.6 kB\u001b[0m \u001b[31m44.1 MB/s\u001b[0m eta \u001b[36m0:00:00\u001b[0m\n",
            "\u001b[?25hInstalling collected packages: nvidia-nvjitlink-cu12, nvidia-curand-cu12, nvidia-cufft-cu12, nvidia-cuda-runtime-cu12, nvidia-cuda-nvrtc-cu12, nvidia-cuda-cupti-cu12, nvidia-cublas-cu12, emoji, nvidia-cusparse-cu12, nvidia-cudnn-cu12, nvidia-cusolver-cu12, stanza\n",
            "  Attempting uninstall: nvidia-nvjitlink-cu12\n",
            "    Found existing installation: nvidia-nvjitlink-cu12 12.5.82\n",
            "    Uninstalling nvidia-nvjitlink-cu12-12.5.82:\n",
            "      Successfully uninstalled nvidia-nvjitlink-cu12-12.5.82\n",
            "  Attempting uninstall: nvidia-curand-cu12\n",
            "    Found existing installation: nvidia-curand-cu12 10.3.6.82\n",
            "    Uninstalling nvidia-curand-cu12-10.3.6.82:\n",
            "      Successfully uninstalled nvidia-curand-cu12-10.3.6.82\n",
            "  Attempting uninstall: nvidia-cufft-cu12\n",
            "    Found existing installation: nvidia-cufft-cu12 11.2.3.61\n",
            "    Uninstalling nvidia-cufft-cu12-11.2.3.61:\n",
            "      Successfully uninstalled nvidia-cufft-cu12-11.2.3.61\n",
            "  Attempting uninstall: nvidia-cuda-runtime-cu12\n",
            "    Found existing installation: nvidia-cuda-runtime-cu12 12.5.82\n",
            "    Uninstalling nvidia-cuda-runtime-cu12-12.5.82:\n",
            "      Successfully uninstalled nvidia-cuda-runtime-cu12-12.5.82\n",
            "  Attempting uninstall: nvidia-cuda-nvrtc-cu12\n",
            "    Found existing installation: nvidia-cuda-nvrtc-cu12 12.5.82\n",
            "    Uninstalling nvidia-cuda-nvrtc-cu12-12.5.82:\n",
            "      Successfully uninstalled nvidia-cuda-nvrtc-cu12-12.5.82\n",
            "  Attempting uninstall: nvidia-cuda-cupti-cu12\n",
            "    Found existing installation: nvidia-cuda-cupti-cu12 12.5.82\n",
            "    Uninstalling nvidia-cuda-cupti-cu12-12.5.82:\n",
            "      Successfully uninstalled nvidia-cuda-cupti-cu12-12.5.82\n",
            "  Attempting uninstall: nvidia-cublas-cu12\n",
            "    Found existing installation: nvidia-cublas-cu12 12.5.3.2\n",
            "    Uninstalling nvidia-cublas-cu12-12.5.3.2:\n",
            "      Successfully uninstalled nvidia-cublas-cu12-12.5.3.2\n",
            "  Attempting uninstall: nvidia-cusparse-cu12\n",
            "    Found existing installation: nvidia-cusparse-cu12 12.5.1.3\n",
            "    Uninstalling nvidia-cusparse-cu12-12.5.1.3:\n",
            "      Successfully uninstalled nvidia-cusparse-cu12-12.5.1.3\n",
            "  Attempting uninstall: nvidia-cudnn-cu12\n",
            "    Found existing installation: nvidia-cudnn-cu12 9.3.0.75\n",
            "    Uninstalling nvidia-cudnn-cu12-9.3.0.75:\n",
            "      Successfully uninstalled nvidia-cudnn-cu12-9.3.0.75\n",
            "  Attempting uninstall: nvidia-cusolver-cu12\n",
            "    Found existing installation: nvidia-cusolver-cu12 11.6.3.83\n",
            "    Uninstalling nvidia-cusolver-cu12-11.6.3.83:\n",
            "      Successfully uninstalled nvidia-cusolver-cu12-11.6.3.83\n",
            "Successfully installed emoji-2.14.1 nvidia-cublas-cu12-12.4.5.8 nvidia-cuda-cupti-cu12-12.4.127 nvidia-cuda-nvrtc-cu12-12.4.127 nvidia-cuda-runtime-cu12-12.4.127 nvidia-cudnn-cu12-9.1.0.70 nvidia-cufft-cu12-11.2.1.3 nvidia-curand-cu12-10.3.5.147 nvidia-cusolver-cu12-11.6.1.9 nvidia-cusparse-cu12-12.3.1.170 nvidia-nvjitlink-cu12-12.4.127 stanza-1.10.1\n"
          ]
        }
      ]
    },
    {
      "cell_type": "markdown",
      "source": [
        "## Import library and download language model\n",
        "\n",
        "After installing it, we import stanza into our notebook."
      ],
      "metadata": {
        "id": "jd5nuNbjEESY"
      }
    },
    {
      "cell_type": "code",
      "source": [
        "import stanza"
      ],
      "metadata": {
        "id": "T2jylnOA5k-w"
      },
      "execution_count": null,
      "outputs": []
    },
    {
      "cell_type": "markdown",
      "source": [
        "## Creating the pipeline\n",
        "\n",
        "Download the English language model and build the pipeline (we specify that it should only tokenize the text, separate multiword tokens and perform Named Entity Recognition):\n"
      ],
      "metadata": {
        "id": "90p3sv3a7kxa"
      }
    },
    {
      "cell_type": "code",
      "source": [
        "# Download the language model:\n",
        "stanza.download(\"en\")\n",
        "\n",
        "# Create the pipeline, specifying the language:\n",
        "nlp = stanza.Pipeline(lang=\"en\", processors='tokenize,mwt,ner')"
      ],
      "metadata": {
        "id": "ogjLOFc6z6f2",
        "colab": {
          "base_uri": "https://localhost:8080/",
          "height": 480,
          "referenced_widgets": [
            "5b3b1d5a53924155931c03bd75dae8c3",
            "612228c3e898404e862f88dd5dd56163",
            "6692e49e9087499d950bfbe418ceeda8",
            "a05b4453c3b24855a0f7bd10db8fca3f",
            "0fa74afb8ba746809da3a797908aadde",
            "e64b4d077c1441648b72fbeb139be81f",
            "ce9e0337eebf49b4b5c18ff89470022f",
            "37e3380707544587af6ac1490fd229da",
            "25f9675851344e9aadcbe0e46d5e7587",
            "8789dfe0bd464962ac12cbf75c17a1a1",
            "5b4566bf11ff44bbb395b3a7316cd796",
            "9370b330f0594064ba10e2bcafee5a19",
            "e59a0bca9c594044975de9bbdf34fbb8",
            "1b32f1cf79fd4548895ddbc327b2187e",
            "6dbfeb6ee1bd4630999c4e7555c04ed9",
            "9a90971602ec4cb7827d4c64b1dbada0",
            "7078a58059244e6b8bac9da41a1c20c7",
            "fda8d648e0fa455fa1124f301a4eda13",
            "c91f5fc1b6a544f090ed19673ba40fa1",
            "7182600796154b6f96df0ae8ae2708a9",
            "b2000094f6fb48de9fd7fb985f0dd3c6",
            "1e86ef5a6a4a43e4aecea200ce6a42d6",
            "7e010ca0daf545e499c6466b9edcd27b",
            "d0292720de744f9198b1810917ee7f61",
            "316286bd1ea24c9fb437bd867a303d80",
            "c087c3b256644395917ea05e3e230aa4",
            "57c230089a844aeaac52b814186a170f",
            "288dd6a328ca414ab01c86c77749e466",
            "b994cf5c12fa47c9a77672bc68332094",
            "7f95b3c2ddc7481e8a62cd0bcf7c4ede",
            "9b850fd2a9c242bb84abe35f88e8f73f",
            "daf4e254881044a59cf97e5139a38e72",
            "e8862eb080f947159821cd5e29606f98"
          ]
        },
        "outputId": "678c9473-e494-4c01-e524-29cbad845c24"
      },
      "execution_count": null,
      "outputs": [
        {
          "output_type": "display_data",
          "data": {
            "text/plain": [
              "Downloading https://raw.githubusercontent.com/stanfordnlp/stanza-resources/main/resources_1.10.0.json:   0%|  …"
            ],
            "application/vnd.jupyter.widget-view+json": {
              "version_major": 2,
              "version_minor": 0,
              "model_id": "5b3b1d5a53924155931c03bd75dae8c3"
            }
          },
          "metadata": {}
        },
        {
          "output_type": "stream",
          "name": "stderr",
          "text": [
            "INFO:stanza:Downloaded file to /root/stanza_resources/resources.json\n",
            "INFO:stanza:Downloading default packages for language: en (English) ...\n"
          ]
        },
        {
          "output_type": "display_data",
          "data": {
            "text/plain": [
              "Downloading https://huggingface.co/stanfordnlp/stanza-en/resolve/v1.10.0/models/default.zip:   0%|          | …"
            ],
            "application/vnd.jupyter.widget-view+json": {
              "version_major": 2,
              "version_minor": 0,
              "model_id": "9370b330f0594064ba10e2bcafee5a19"
            }
          },
          "metadata": {}
        },
        {
          "output_type": "stream",
          "name": "stderr",
          "text": [
            "INFO:stanza:Downloaded file to /root/stanza_resources/en/default.zip\n",
            "INFO:stanza:Finished downloading models and saved to /root/stanza_resources\n",
            "INFO:stanza:Checking for updates to resources.json in case models have been updated.  Note: this behavior can be turned off with download_method=None or download_method=DownloadMethod.REUSE_RESOURCES\n"
          ]
        },
        {
          "output_type": "display_data",
          "data": {
            "text/plain": [
              "Downloading https://raw.githubusercontent.com/stanfordnlp/stanza-resources/main/resources_1.10.0.json:   0%|  …"
            ],
            "application/vnd.jupyter.widget-view+json": {
              "version_major": 2,
              "version_minor": 0,
              "model_id": "7e010ca0daf545e499c6466b9edcd27b"
            }
          },
          "metadata": {}
        },
        {
          "output_type": "stream",
          "name": "stderr",
          "text": [
            "INFO:stanza:Downloaded file to /root/stanza_resources/resources.json\n",
            "INFO:stanza:Loading these models for language: en (English):\n",
            "=========================================\n",
            "| Processor | Package                   |\n",
            "-----------------------------------------\n",
            "| tokenize  | combined                  |\n",
            "| mwt       | combined                  |\n",
            "| ner       | ontonotes-ww-multi_charlm |\n",
            "=========================================\n",
            "\n",
            "INFO:stanza:Using device: cuda\n",
            "INFO:stanza:Loading: tokenize\n",
            "INFO:stanza:Loading: mwt\n",
            "INFO:stanza:Loading: ner\n",
            "INFO:stanza:Done loading processors!\n"
          ]
        }
      ]
    },
    {
      "cell_type": "markdown",
      "source": [
        "## Named entities\n",
        "\n",
        "Let's take the text of one of our Gaza articles, and see how well Stanza manages to find the Named Entities in it.\n",
        "\n",
        "First, run the code cell below to load the article into memory:"
      ],
      "metadata": {
        "id": "X6xGpoEjvjW8"
      }
    },
    {
      "cell_type": "code",
      "source": [
        "article = \"\"\"Displacement, death, hunger as Israel’s war on Gaza enters third month\n",
        "\n",
        "-----\n",
        "\n",
        "Fighting has escalated in Gaza’s second-largest city of Khan Younis as Israeli air strikes rain down throughout the enclave, forcing Palestinians to flee to increasingly crammed pockets of the territory’s southern edge where there is no promised security, as the war enters its third month.\n",
        "“We are talking about a carpet bombardment of entire neighbourhoods and residential blocks,” Al Jazeera’s Hani Mahmoud, reporting from Rafah in southern Gaza, said on Thursday, following heavy overnight shelling there.\n",
        "The Israeli army “ordered with a threatening tone to move to Rafah because it is safe”, he said, but residential homes “were destroyed”.\n",
        "“[These strikes] are not concentrated in one area of Rafah … multiple locations were targeted, just sending waves of fear and concern that confirm what people have talked about and expressed before – there is literally no safe place in the Gaza Strip, including the areas Israel designated as safe.”\n",
        "After more than two months of war, starting on October 7, Mahmoud said that “the mood of these more than 60 days has been death, destruction and displacement”.\n",
        "“We’re talking about more than 60 days of constant movement and running for their lives from one place to another, from the extreme northern part of the Gazan city of Beit Hanoon to the extreme south by Rafah, where many people are being packed and squeezed.”\n",
        "\n",
        "The United Nations World Food Programme (WFP) said that households in northern Gaza are “experiencing alarming levels of hunger”.\n",
        "At least 97 percent of households in northern Gaza have “inadequate food consumption”, with nine out of 10 people going one full day and night without food.\n",
        "In the southern governorates, a third of the households have reported high levels of severe or very severe hunger, with 53 percent experiencing moderate hunger.\n",
        "“Palestinians lack everything they need to survive,” Mahmoud said.\n",
        "While pursuing its offensive in the south, Israeli armed forces have attacked several refugee camps, among them the Jabalia camp in the north and the al-Maghazi camp in the centre. The attack in Jabalia killed 22 relatives of Al Jazeera journalist Momin Alshrafi, including his father, mother, three siblings, and children.\n",
        "According to the Palestinian Red Crescent Society, 60 percent of the wounded require urgent medical treatment abroad, pointing to the collapse of the health sector in Gaza.\n",
        "“The occupation forces are deliberately arresting and abusing the sick and wounded, including paramedics from our crews, and we are on the cusp of a health and environmental catastrophe in the Strip,” a statement said.\n",
        "\n",
        "\n",
        "\n",
        "As the death toll mounts amid the humanitarian catastrophe, US Secretary of State Antony Blinken told officials in Israel’s war cabinet last week that the administration of US President Joe Biden believed the war should end in weeks – not months, according to The Wall Street Journal,\n",
        "Israeli officials, in turn, expressed an interest in a return to normalcy, especially in the interest of economic stability, but did not make any guarantees, the report said.\n",
        "However, Israeli Prime Minister Benjamin Netanyahu has said Israel could indefinitely occupy part of the Gaza Strip to create a “buffer zone”, a move that would put him on a collision course with regional allies and the United States.\n",
        "Conflicting reports have also emerged on whether Israeli troops have surrounded the house of Hamas’s leader in Gaza, Yahya Sinwar, in Khan Younis.\n",
        "Late on Wednesday, Netanyahu said it was “just a matter of time until we get him” and that Israeli soldiers had encircled his house.\n",
        "Yet, military spokesperson Daniel Hagari later said Sinwar’s home is the entire “Khan Younis area”, giving no indication that a specific location had been surrounded.\n",
        "Three names top Israel’s most-wanted men, namely Mohammed Deif, the head of Hamas’s military wing, the Qassam Brigades; his second-in-command, Marwan Issa; and Sinwar.\n",
        "\"\"\""
      ],
      "metadata": {
        "id": "TwrB6H_jvxvV"
      },
      "execution_count": null,
      "outputs": []
    },
    {
      "cell_type": "markdown",
      "source": [
        "Create a new stanza document by feeding the `article` variable to our `nlp` pipeline object. Then print each entity (let the code cell above the previous one inspire you):"
      ],
      "metadata": {
        "id": "rMRuYRV-ZkST"
      }
    },
    {
      "cell_type": "code",
      "source": [
        "# feed the `article` variable into our `nlp` analyzer to create a stanza document:\n",
        "doc = nlp(article)"
      ],
      "metadata": {
        "id": "p2-QQeHSZkng"
      },
      "execution_count": null,
      "outputs": []
    },
    {
      "cell_type": "markdown",
      "source": [
        "### Place names\n",
        "Use a loop to print only the named entities that are place names.\n",
        "\n",
        "If you don't remember how to do that, look back at last week's notebook!"
      ],
      "metadata": {
        "id": "vlW7K43RcVKn"
      }
    },
    {
      "cell_type": "code",
      "source": [
        "for e in doc.entities:\n",
        "  if e.type == \"GPE\":\n",
        "    print(e)\n",
        "  elif e.type == \"LOC\":\n",
        "    print(e)"
      ],
      "metadata": {
        "collapsed": true,
        "id": "iW_SUp4yxzm-",
        "colab": {
          "base_uri": "https://localhost:8080/"
        },
        "outputId": "9731f339-9c83-4b45-af59-da84a846d071"
      },
      "execution_count": null,
      "outputs": [
        {
          "output_type": "stream",
          "name": "stdout",
          "text": [
            "{\n",
            "  \"text\": \"Gaza\",\n",
            "  \"type\": \"GPE\",\n",
            "  \"start_char\": 47,\n",
            "  \"end_char\": 51\n",
            "}\n",
            "{\n",
            "  \"text\": \"Gaza’s\",\n",
            "  \"type\": \"GPE\",\n",
            "  \"start_char\": 105,\n",
            "  \"end_char\": 111\n",
            "}\n",
            "{\n",
            "  \"text\": \"Rafah\",\n",
            "  \"type\": \"GPE\",\n",
            "  \"start_char\": 505,\n",
            "  \"end_char\": 510\n",
            "}\n",
            "{\n",
            "  \"text\": \"Gaza\",\n",
            "  \"type\": \"GPE\",\n",
            "  \"start_char\": 523,\n",
            "  \"end_char\": 527\n",
            "}\n",
            "{\n",
            "  \"text\": \"Rafah\",\n",
            "  \"type\": \"GPE\",\n",
            "  \"start_char\": 650,\n",
            "  \"end_char\": 655\n",
            "}\n",
            "{\n",
            "  \"text\": \"Rafah\",\n",
            "  \"type\": \"GPE\",\n",
            "  \"start_char\": 779,\n",
            "  \"end_char\": 784\n",
            "}\n",
            "{\n",
            "  \"text\": \"the Gaza Strip\",\n",
            "  \"type\": \"GPE\",\n",
            "  \"start_char\": 962,\n",
            "  \"end_char\": 976\n",
            "}\n",
            "{\n",
            "  \"text\": \"Israel\",\n",
            "  \"type\": \"GPE\",\n",
            "  \"start_char\": 998,\n",
            "  \"end_char\": 1004\n",
            "}\n",
            "{\n",
            "  \"text\": \"Beit Hanoon\",\n",
            "  \"type\": \"GPE\",\n",
            "  \"start_char\": 1353,\n",
            "  \"end_char\": 1364\n",
            "}\n",
            "{\n",
            "  \"text\": \"Rafah\",\n",
            "  \"type\": \"GPE\",\n",
            "  \"start_char\": 1389,\n",
            "  \"end_char\": 1394\n",
            "}\n",
            "{\n",
            "  \"text\": \"Gaza\",\n",
            "  \"type\": \"GPE\",\n",
            "  \"start_char\": 1526,\n",
            "  \"end_char\": 1530\n",
            "}\n",
            "{\n",
            "  \"text\": \"Gaza\",\n",
            "  \"type\": \"GPE\",\n",
            "  \"start_char\": 1623,\n",
            "  \"end_char\": 1627\n",
            "}\n",
            "{\n",
            "  \"text\": \"Jabalia\",\n",
            "  \"type\": \"GPE\",\n",
            "  \"start_char\": 2078,\n",
            "  \"end_char\": 2085\n",
            "}\n",
            "{\n",
            "  \"text\": \"Jabalia\",\n",
            "  \"type\": \"GPE\",\n",
            "  \"start_char\": 2157,\n",
            "  \"end_char\": 2164\n",
            "}\n",
            "{\n",
            "  \"text\": \"Gaza\",\n",
            "  \"type\": \"GPE\",\n",
            "  \"start_char\": 2453,\n",
            "  \"end_char\": 2457\n",
            "}\n",
            "{\n",
            "  \"text\": \"Strip\",\n",
            "  \"type\": \"GPE\",\n",
            "  \"start_char\": 2652,\n",
            "  \"end_char\": 2657\n",
            "}\n",
            "{\n",
            "  \"text\": \"US\",\n",
            "  \"type\": \"GPE\",\n",
            "  \"start_char\": 2741,\n",
            "  \"end_char\": 2743\n",
            "}\n",
            "{\n",
            "  \"text\": \"Israel’s\",\n",
            "  \"type\": \"GPE\",\n",
            "  \"start_char\": 2796,\n",
            "  \"end_char\": 2804\n",
            "}\n",
            "{\n",
            "  \"text\": \"US\",\n",
            "  \"type\": \"GPE\",\n",
            "  \"start_char\": 2854,\n",
            "  \"end_char\": 2856\n",
            "}\n",
            "{\n",
            "  \"text\": \"Israel\",\n",
            "  \"type\": \"GPE\",\n",
            "  \"start_char\": 3201,\n",
            "  \"end_char\": 3207\n",
            "}\n",
            "{\n",
            "  \"text\": \"the Gaza Strip\",\n",
            "  \"type\": \"GPE\",\n",
            "  \"start_char\": 3242,\n",
            "  \"end_char\": 3256\n",
            "}\n",
            "{\n",
            "  \"text\": \"the United States\",\n",
            "  \"type\": \"GPE\",\n",
            "  \"start_char\": 3357,\n",
            "  \"end_char\": 3374\n",
            "}\n",
            "{\n",
            "  \"text\": \"Gaza\",\n",
            "  \"type\": \"GPE\",\n",
            "  \"start_char\": 3487,\n",
            "  \"end_char\": 3491\n",
            "}\n",
            "{\n",
            "  \"text\": \"Khan Younis\",\n",
            "  \"type\": \"GPE\",\n",
            "  \"start_char\": 3737,\n",
            "  \"end_char\": 3748\n",
            "}\n"
          ]
        }
      ]
    },
    {
      "cell_type": "markdown",
      "source": [
        "### Counting place names\n",
        "\n",
        "We can now use a dictionary to count how many times each place is counted in the text, as we did with regular expressions:"
      ],
      "metadata": {
        "id": "g0D3V9JGLiBb"
      }
    },
    {
      "cell_type": "code",
      "source": [
        "# create an empty dictionary\n",
        "places = {}\n",
        "\n",
        "# loop through the entities:\n",
        "for e in doc.entities:\n",
        "  # add a condition so that only place names are processed:\n",
        "  if e.type in [\"GPE\", \"LOC\"]:\n",
        "    # add the count to the text:\n",
        "    places[e.text] = places.get(e.text, 0) +1\n",
        "\n",
        "print(places)\n"
      ],
      "metadata": {
        "id": "TG9tNHLHL5PS",
        "colab": {
          "base_uri": "https://localhost:8080/"
        },
        "outputId": "a24ffd4a-76bb-45f4-c5cd-c0b06313493e"
      },
      "execution_count": null,
      "outputs": [
        {
          "output_type": "stream",
          "name": "stdout",
          "text": [
            "{'Gaza': 6, 'Gaza’s': 1, 'Rafah': 4, 'the Gaza Strip': 2, 'Israel': 2, 'Beit Hanoon': 1, 'Jabalia': 2, 'Strip': 1, 'US': 2, 'Israel’s': 1, 'the United States': 1, 'Khan Younis': 1}\n"
          ]
        }
      ]
    },
    {
      "cell_type": "markdown",
      "source": [
        "### Evaluation\n",
        "\n",
        "To check how well Stanza performed, we can put the tags into the text.\n",
        "\n",
        "We can use the `start_char` property to insert the tag codes into the text; this way we can easily see which places Stanza missed.\n",
        "\n",
        "We're going to loop over all the character indexes in the string;\n",
        "and whenever we reach a character index where an entity starts,\n",
        "we add the entity's tag to the text."
      ],
      "metadata": {
        "id": "FmrVT3LXyIjn"
      }
    },
    {
      "cell_type": "code",
      "source": [
        "# first, we build a dictionary\n",
        "# (keys: the the offset of the start character of the entity, values: entity type)\n",
        "tag_start_chars = {}\n",
        "for e in doc.entities:\n",
        "  tag_start_chars[e.start_char] = e.type\n",
        "\n",
        "# then we create a new variable that will contain the tagged text:\n",
        "tagged_text = \"\"\n",
        "\n",
        "# finally, we loop through the text, character by character\n",
        "for i in range(len(doc.text)):\n",
        "  # if an entity starts on this location: put its tag in the tagged_text\n",
        "  if i in tag_start_chars:\n",
        "    tagged_text += tag_start_chars[i] + \" \"\n",
        "  # in any case, put the character itself into the tagged_text\n",
        "  tagged_text += doc.text[i]\n",
        "\n",
        "print(tagged_text)\n"
      ],
      "metadata": {
        "id": "H9Mu-zTqyHoM",
        "colab": {
          "base_uri": "https://localhost:8080/"
        },
        "outputId": "cecff01e-c232-4ea2-cb98-bb6dc9cd0d49"
      },
      "execution_count": null,
      "outputs": [
        {
          "output_type": "stream",
          "name": "stdout",
          "text": [
            "Displacement, death, hunger as NORP Israel’s war on GPE Gaza enters DATE third month\n",
            "\n",
            "-----\n",
            "\n",
            "Fighting has escalated in GPE Gaza’s ORDINAL second-largest city of PERSON Khan Younis as NORP Israeli air strikes rain down throughout the enclave, forcing NORP Palestinians to flee to increasingly crammed pockets of the territory’s southern edge where there is no promised security, as the war enters DATE its third month.\n",
            "“We are talking about a carpet bombardment of entire neighbourhoods and residential blocks,” PERSON Al Jazeera’s Hani Mahmoud, reporting from GPE Rafah in southern GPE Gaza, said on DATE Thursday, following heavy overnight shelling there.\n",
            "The NORP Israeli army “ordered with a threatening tone to move to GPE Rafah because it is safe”, he said, but residential homes “were destroyed”.\n",
            "“[These strikes] are not concentrated in CARDINAL one area of GPE Rafah … multiple locations were targeted, just sending waves of fear and concern that confirm what people have talked about and expressed before – there is literally no safe place in GPE the Gaza Strip, including the areas GPE Israel designated as safe.”\n",
            "After DATE more than two months of war, starting on DATE October 7, PERSON Mahmoud said that “the mood of DATE these more than 60 days has been death, destruction and displacement”.\n",
            "“We’re talking about DATE more than 60 days of constant movement and running for their lives from CARDINAL one place to another, from the extreme northern part of the NORP Gazan city of GPE Beit Hanoon to the extreme south by GPE Rafah, where many people are being packed and squeezed.”\n",
            "\n",
            "The ORG United Nations World Food Programme (ORG WFP) said that households in northern GPE Gaza are “experiencing alarming levels of hunger”.\n",
            "PERCENT At least 97 percent of households in northern GPE Gaza have “inadequate food consumption”, with CARDINAL nine out of CARDINAL 10 people going one full day and night without food.\n",
            "In the southern governorates, CARDINAL a third of the households have reported high levels of severe or very severe hunger, with PERCENT 53 percent experiencing moderate hunger.\n",
            "“NORP Palestinians lack everything they need to survive,” PERSON Mahmoud said.\n",
            "While pursuing its offensive in the south, NORP Israeli armed forces have attacked several refugee camps, among them the GPE Jabalia camp in the north and FAC the al-Maghazi camp in the centre. The attack in GPE Jabalia killed CARDINAL 22 relatives of ORG Al Jazeera journalist PERSON Momin Alshrafi, including his father, mother, CARDINAL three siblings, and children.\n",
            "According to ORG the Palestinian Red Crescent Society, PERCENT 60 percent of the wounded require urgent medical treatment abroad, pointing to the collapse of the health sector in GPE Gaza.\n",
            "“The occupation forces are deliberately arresting and abusing the sick and wounded, including paramedics from our crews, and we are on the cusp of a health and environmental catastrophe in the GPE Strip,” a statement said.\n",
            "\n",
            "\n",
            "\n",
            "As the death toll mounts amid the humanitarian catastrophe, GPE US Secretary of ORG State PERSON Antony Blinken told officials in GPE Israel’s war cabinet DATE last week that the administration of GPE US President PERSON Joe Biden believed the war should end in DATE weeks – not months, according to ORG The Wall Street Journal,\n",
            "NORP Israeli officials, in turn, expressed an interest in a return to normalcy, especially in the interest of economic stability, but did not make any guarantees, the report said.\n",
            "However, NORP Israeli Prime Minister PERSON Benjamin Netanyahu has said GPE Israel could indefinitely occupy part of GPE the Gaza Strip to create a “buffer zone”, a move that would put him on a collision course with regional allies and GPE the United States.\n",
            "Conflicting reports have also emerged on whether NORP Israeli troops have surrounded the house of NORP Hamas’s leader in GPE Gaza, PERSON Yahya Sinwar, in PERSON Khan Younis.\n",
            "TIME Late on Wednesday, PERSON Netanyahu said it was “just a matter of time until we get him” and that NORP Israeli soldiers had encircled his house.\n",
            "Yet, military spokesperson PERSON Daniel Hagari later said NORP Sinwar’s home is the entire “GPE Khan Younis area”, giving no indication that a specific location had been surrounded.\n",
            "CARDINAL Three names top NORP Israel’s most-wanted men, namely PERSON Mohammed Deif, the head of NORP Hamas’s military wing, ORG the Qassam Brigades; his ORDINAL second-in-command, PERSON Marwan Issa; and PERSON Sinwar.\n",
            "\n"
          ]
        }
      ]
    },
    {
      "cell_type": "markdown",
      "source": [
        "We can improve the readability by adding xml-style opening and closing tags (e.g., `<GPE>Rafah</GPE>`) instead of only a tag at the beginning of the entity. Adapt the code below so that it adds xml-style start and end tags:"
      ],
      "metadata": {
        "id": "FbdzbKpK4ReY"
      }
    },
    {
      "cell_type": "code",
      "source": [
        "# first, we build another dictionary that holds the end positions of each entity\n",
        "# (keys: the offset of the end character, values: entity type)\n",
        "tag_end_chars = {}\n",
        "for e in doc.entities:\n",
        "  tag_end_chars[e.end_char] = e.type\n",
        "\n",
        "# now we repeat the same procedure as above, but add a tag at the end of each entity as well:\n",
        "tagged_text = \"\"\n",
        "\n",
        "# finally, we loop through the text, character by character\n",
        "for i in range(len(doc.text)):\n",
        "  # if an entity ends on this location: put its (end) tag in the tagged_text\n",
        "  if i in tag_end_chars:\n",
        "    tagged_text += \"</\" + tag_end_chars[i] + \">\"\n",
        "  # if an entity starts on this location: put its (start) tag in the tagged_text\n",
        "  if i in tag_start_chars:\n",
        "    tagged_text += \"<\" + tag_start_chars[i] + \"> \"\n",
        "  # in any case, put the character itself into the tagged_text\n",
        "  tagged_text += doc.text[i]\n",
        "\n",
        "print(tagged_text)"
      ],
      "metadata": {
        "id": "RWJQm-od4a9M",
        "colab": {
          "base_uri": "https://localhost:8080/"
        },
        "outputId": "ebe5f3be-4e57-4995-ff35-cf12ad97636f"
      },
      "execution_count": null,
      "outputs": [
        {
          "output_type": "stream",
          "name": "stdout",
          "text": [
            "Displacement, death, hunger as <NORP> Israel’s</NORP> war on <GPE> Gaza</GPE> enters <DATE> third month</DATE>\n",
            "\n",
            "-----\n",
            "\n",
            "Fighting has escalated in <GPE> Gaza’s</GPE> <ORDINAL> second</ORDINAL>-largest city of <PERSON> Khan Younis</PERSON> as <NORP> Israeli</NORP> air strikes rain down throughout the enclave, forcing <NORP> Palestinians</NORP> to flee to increasingly crammed pockets of the territory’s southern edge where there is no promised security, as the war enters <DATE> its third month</DATE>.\n",
            "“We are talking about a carpet bombardment of entire neighbourhoods and residential blocks,” <PERSON> Al Jazeera’s Hani Mahmoud</PERSON>, reporting from <GPE> Rafah</GPE> in southern <GPE> Gaza</GPE>, said on <DATE> Thursday</DATE>, following heavy overnight shelling there.\n",
            "The <NORP> Israeli</NORP> army “ordered with a threatening tone to move to <GPE> Rafah</GPE> because it is safe”, he said, but residential homes “were destroyed”.\n",
            "“[These strikes] are not concentrated in <CARDINAL> one</CARDINAL> area of <GPE> Rafah</GPE> … multiple locations were targeted, just sending waves of fear and concern that confirm what people have talked about and expressed before – there is literally no safe place in <GPE> the Gaza Strip</GPE>, including the areas <GPE> Israel</GPE> designated as safe.”\n",
            "After <DATE> more than two months</DATE> of war, starting on <DATE> October 7</DATE>, <PERSON> Mahmoud</PERSON> said that “the mood of <DATE> these more than 60 days</DATE> has been death, destruction and displacement”.\n",
            "“We’re talking about <DATE> more than 60 days</DATE> of constant movement and running for their lives from <CARDINAL> one</CARDINAL> place to another, from the extreme northern part of the <NORP> Gazan</NORP> city of <GPE> Beit Hanoon</GPE> to the extreme south by <GPE> Rafah</GPE>, where many people are being packed and squeezed.”\n",
            "\n",
            "The <ORG> United Nations World Food Programme</ORG> (<ORG> WFP</ORG>) said that households in northern <GPE> Gaza</GPE> are “experiencing alarming levels of hunger”.\n",
            "<PERCENT> At least 97 percent</PERCENT> of households in northern <GPE> Gaza</GPE> have “inadequate food consumption”, with <CARDINAL> nine</CARDINAL> out of <CARDINAL> 10</CARDINAL> people going one full day and night without food.\n",
            "In the southern governorates, <CARDINAL> a third</CARDINAL> of the households have reported high levels of severe or very severe hunger, with <PERCENT> 53 percent</PERCENT> experiencing moderate hunger.\n",
            "“<NORP> Palestinians</NORP> lack everything they need to survive,” <PERSON> Mahmoud</PERSON> said.\n",
            "While pursuing its offensive in the south, <NORP> Israeli</NORP> armed forces have attacked several refugee camps, among them the <GPE> Jabalia</GPE> camp in the north and <FAC> the al-Maghazi</FAC> camp in the centre. The attack in <GPE> Jabalia</GPE> killed <CARDINAL> 22</CARDINAL> relatives of <ORG> Al Jazeera</ORG> journalist <PERSON> Momin Alshrafi</PERSON>, including his father, mother, <CARDINAL> three</CARDINAL> siblings, and children.\n",
            "According to <ORG> the Palestinian Red Crescent Society</ORG>, <PERCENT> 60 percent</PERCENT> of the wounded require urgent medical treatment abroad, pointing to the collapse of the health sector in <GPE> Gaza</GPE>.\n",
            "“The occupation forces are deliberately arresting and abusing the sick and wounded, including paramedics from our crews, and we are on the cusp of a health and environmental catastrophe in the <GPE> Strip</GPE>,” a statement said.\n",
            "\n",
            "\n",
            "\n",
            "As the death toll mounts amid the humanitarian catastrophe, <GPE> US</GPE> Secretary of <ORG> State</ORG> <PERSON> Antony Blinken</PERSON> told officials in <GPE> Israel’s</GPE> war cabinet <DATE> last week</DATE> that the administration of <GPE> US</GPE> President <PERSON> Joe Biden</PERSON> believed the war should end in <DATE> weeks</DATE> – not months, according to <ORG> The Wall Street Journal</ORG>,\n",
            "<NORP> Israeli</NORP> officials, in turn, expressed an interest in a return to normalcy, especially in the interest of economic stability, but did not make any guarantees, the report said.\n",
            "However, <NORP> Israeli</NORP> Prime Minister <PERSON> Benjamin Netanyahu</PERSON> has said <GPE> Israel</GPE> could indefinitely occupy part of <GPE> the Gaza Strip</GPE> to create a “buffer zone”, a move that would put him on a collision course with regional allies and <GPE> the United States</GPE>.\n",
            "Conflicting reports have also emerged on whether <NORP> Israeli</NORP> troops have surrounded the house of <NORP> Hamas’s</NORP> leader in <GPE> Gaza</GPE>, <PERSON> Yahya Sinwar</PERSON>, in <PERSON> Khan Younis</PERSON>.\n",
            "<TIME> Late on Wednesday</TIME>, <PERSON> Netanyahu</PERSON> said it was “just a matter of time until we get him” and that <NORP> Israeli</NORP> soldiers had encircled his house.\n",
            "Yet, military spokesperson <PERSON> Daniel Hagari</PERSON> later said <NORP> Sinwar’s</NORP> home is the entire “<GPE> Khan Younis</GPE> area”, giving no indication that a specific location had been surrounded.\n",
            "<CARDINAL> Three</CARDINAL> names top <NORP> Israel’s</NORP> most-wanted men, namely <PERSON> Mohammed Deif</PERSON>, the head of <NORP> Hamas’s</NORP> military wing, <ORG> the Qassam Brigades</ORG>; his <ORDINAL> second</ORDINAL>-in-command, <PERSON> Marwan Issa</PERSON>; and <PERSON> Sinwar</PERSON>.\n",
            "\n"
          ]
        }
      ]
    },
    {
      "cell_type": "markdown",
      "source": [
        "Take a look at the tagged text and check whether stanza made mistakes (focus on the place names). Did it not tag any place names? Did it tag some place names as a different entity?\n",
        "\n",
        "Write down the mistakes you see here:\n",
        "\n",
        "..."
      ],
      "metadata": {
        "id": "mTn0-RcL6DUU"
      }
    },
    {
      "cell_type": "markdown",
      "source": [
        "We could come up with ways to fix errors like these.\n",
        "\n",
        "One option would be to create a dictionary of known errors,\n",
        "so that when we loop through the entities, we can fix them:"
      ],
      "metadata": {
        "id": "QVBgVRwI9f1s"
      }
    },
    {
      "cell_type": "code",
      "source": [
        "# manually create a dictionary of known errors\n",
        "doc = nlp(tagged_text)\n",
        "# (keys: entity name, values: corrected entity type)\n",
        "known_errors = {\n",
        "    \"Khan Younis\": \"GPE\",\n",
        "    \"the al-Maghazi\": \"GPE\",\n",
        "}\n",
        "\n",
        "for e in doc.entities:\n",
        "  # fix the entity type if the entity's name is in the known errors list:\n",
        "  if e.text in known_errors:\n",
        "    e.type = known_errors[e.text]\n",
        "  # then print the relevant entities:\n",
        "  if e.type in [\"GPE\", \"LOC\"]:\n",
        "    print(e)\n",
        "    print(\"------\")"
      ],
      "metadata": {
        "collapsed": true,
        "id": "GF2zLIo397pa",
        "colab": {
          "base_uri": "https://localhost:8080/"
        },
        "outputId": "2d345267-d7d5-4757-980f-8c5b383a816b"
      },
      "execution_count": null,
      "outputs": [
        {
          "output_type": "stream",
          "name": "stdout",
          "text": [
            "{\n",
            "  \"text\": \"Rafah\",\n",
            "  \"type\": \"GPE\",\n",
            "  \"start_char\": 661,\n",
            "  \"end_char\": 666\n",
            "}\n",
            "------\n",
            "{\n",
            "  \"text\": \"Rafah\",\n",
            "  \"type\": \"GPE\",\n",
            "  \"start_char\": 858,\n",
            "  \"end_char\": 863\n",
            "}\n",
            "------\n",
            "{\n",
            "  \"text\": \"Rafah\",\n",
            "  \"type\": \"GPE\",\n",
            "  \"start_char\": 1021,\n",
            "  \"end_char\": 1026\n",
            "}\n",
            "------\n",
            "{\n",
            "  \"text\": \"the Gaza Strip<\",\n",
            "  \"type\": \"GPE\",\n",
            "  \"start_char\": 1216,\n",
            "  \"end_char\": 1231\n",
            "}\n",
            "------\n",
            "{\n",
            "  \"text\": \"Israel\",\n",
            "  \"type\": \"GPE\",\n",
            "  \"start_char\": 1264,\n",
            "  \"end_char\": 1270\n",
            "}\n",
            "------\n",
            "{\n",
            "  \"text\": \"Beit Hanoon\",\n",
            "  \"type\": \"GPE\",\n",
            "  \"start_char\": 1741,\n",
            "  \"end_char\": 1752\n",
            "}\n",
            "------\n",
            "{\n",
            "  \"text\": \"Rafah\",\n",
            "  \"type\": \"GPE\",\n",
            "  \"start_char\": 1789,\n",
            "  \"end_char\": 1794\n",
            "}\n",
            "------\n",
            "{\n",
            "  \"text\": \"US\",\n",
            "  \"type\": \"GPE\",\n",
            "  \"start_char\": 3519,\n",
            "  \"end_char\": 3521\n",
            "}\n",
            "------\n",
            "{\n",
            "  \"text\": \"US\",\n",
            "  \"type\": \"GPE\",\n",
            "  \"start_char\": 3700,\n",
            "  \"end_char\": 3702\n",
            "}\n",
            "------\n",
            "{\n",
            "  \"text\": \"Israel\",\n",
            "  \"type\": \"GPE\",\n",
            "  \"start_char\": 4149,\n",
            "  \"end_char\": 4155\n",
            "}\n",
            "------\n"
          ]
        }
      ]
    },
    {
      "cell_type": "markdown",
      "source": [
        "### multiple files\n",
        "\n",
        "Since we can do this in one file, we can also do this for a large number of files!\n",
        "\n",
        "Let's download our FASDH25 git repository here. Because we don't use Python to clone a git repository, we add an exclamation mark before the command `git` in Colab (as we did with `pip`). Complete the command below and run it:\n",
        "\n"
      ],
      "metadata": {
        "id": "v_R3dMvaQVo8"
      }
    },
    {
      "cell_type": "code",
      "source": [
        "# clone our FASDH25 folder here:\n",
        "!git clone https://github.com/OpenITI/FASDH25.git"
      ],
      "metadata": {
        "id": "L2wFS3bcUHZo",
        "colab": {
          "base_uri": "https://localhost:8080/"
        },
        "outputId": "e02c898c-d34b-4797-c736-d1d2888e177b"
      },
      "execution_count": null,
      "outputs": [
        {
          "output_type": "stream",
          "name": "stdout",
          "text": [
            "Cloning into 'FASDH25'...\n",
            "remote: Enumerating objects: 6719, done.\u001b[K\n",
            "remote: Counting objects: 100% (357/357), done.\u001b[K\n",
            "remote: Compressing objects: 100% (239/239), done.\u001b[K\n",
            "remote: Total 6719 (delta 259), reused 204 (delta 117), pack-reused 6362 (from 2)\u001b[K\n",
            "Receiving objects: 100% (6719/6719), 25.97 MiB | 22.54 MiB/s, done.\n",
            "Resolving deltas: 100% (4455/4455), done.\n"
          ]
        }
      ]
    },
    {
      "cell_type": "markdown",
      "source": [
        "We can now loop through the articles in the folder as we did when we were using regex to find filenames:"
      ],
      "metadata": {
        "id": "G96seqATfmzB"
      }
    },
    {
      "cell_type": "code",
      "source": [
        "import os\n",
        "\n",
        "# create an empty dictionary that will contain our places with their frequencies:\n",
        "places = {}\n",
        "# loop through all the files in the folder:\n",
        "folder = \"/content/FASDH25/python_exercises/lesson_11.1/aljazeera_articles\"\n",
        "for filename in os.listdir(folder):\n",
        "  # create a path to the file:\n",
        "  path = f\"{folder}/{filename}\"\n",
        "  # open and read the file:\n",
        "  with open(path, encoding=\"utf-8\") as file:\n",
        "    text = file.read()\n",
        "    # use the nlp pipeline to analyse the text:\n",
        "    doc = nlp(text)\n",
        "    # select only the entities that are place names:\n",
        "    for e in doc.entities:\n",
        "      if e.type in [\"GPE\", \"LOC\"]:\n",
        "        # add 1 to the count of the place in our dictionary\n",
        "        # (and/or add the place to the dictionary if it was not there yet):\n",
        "        places[e.text] = places.get(e.text, 0) + 1\n",
        "print(places)\n",
        "\n"
      ],
      "metadata": {
        "id": "Vp4GtkoORCiN",
        "colab": {
          "base_uri": "https://localhost:8080/"
        },
        "outputId": "3d4bb622-12c2-4c9c-a2a7-c480788b022f"
      },
      "execution_count": null,
      "outputs": [
        {
          "output_type": "stream",
          "name": "stdout",
          "text": [
            "{'Gaza': 48, 'Rafah': 11, 'Jabalia': 3, 'al-Mawasi': 1, 'Egypt': 7, 'the Gaza Strip': 3, 'Israel': 27, 'Twam': 1, 'Gaza City': 1, 'Tal al-Hawa': 1, 'Nuseirat': 4, 'Khan Younis': 4, 'Sinai': 2, 'Maghazi': 8, 'Gaza Strip': 1, 'Bureij': 4, 'Bethlehem': 2, 'West Bank': 2, 'Central Gaza Strip': 1, 'Gaza’s': 2, 'the Near East': 1, 'Jenin': 1, 'Dheisheh': 1, 'Tall az-Zaatar': 1, 'al-Shifa': 1, 'Southern Gaza': 1, 'East Jerusalem': 2, 'Beit Lahia': 1, 'Khan Younis city': 1, 'Hamad': 1, 'Gaza’s Jabalia': 1, 'US': 4, 'the United States': 1, 'Ashkelon': 1, 'Sderot': 1, 'Beersheba': 1, 'the West Bank': 1, 'Qatar': 3, 'Dubai': 1}\n"
          ]
        }
      ]
    },
    {
      "cell_type": "markdown",
      "source": [
        "### Storing data in a tsv file\n",
        "\n",
        "We can now store the counts in a tsv file, so we can reuse it in a different script.\n",
        "\n",
        "Let's create a tsv file with two columns: \"name\" and \"frequency\".\n",
        "We'll create the tsv file in two steps:\n",
        "\n",
        "1. we create the header: that is, the column names, separated by tabs\n",
        "2. we loop through all the place names, and we create a new row in the table for each place. Each row will contain the place name and its frequency, separated by a tab. Each row will have to start on a new line, so we'll also have to add a newline character \\n to the row; should we add it at the beginning or end of the line, or both?\n",
        "\n",
        "Fill in the blanks:"
      ],
      "metadata": {
        "id": "u1_OOoOxEgd-"
      }
    },
    {
      "cell_type": "code",
      "source": [
        "filename = \"ner_counts.tsv\"\n",
        "# open the file in writing mode and with unicode UTF-8 encoding:\n",
        "with open(filename, mode=\"w\", encoding=\"utf-8\") as file:\n",
        "  # create a header of the tsv files, which consists of the column names separated by a tab:\n",
        "  header = \"name\\tfrequency\\n\"\n",
        "  # write the header to the file:\n",
        "  file.write(header)\n",
        "  # Now, loop through the places dictionary and create a new row for each item in the dictionary\n",
        "  for place, freq in places.items():\n",
        "    row = f\"{place}\\t{freq}\\n\"\n",
        "    # finally, write the row to the file:\n",
        "    file.write(row)"
      ],
      "metadata": {
        "id": "-UwtoCAWFaBg"
      },
      "execution_count": null,
      "outputs": []
    },
    {
      "cell_type": "markdown",
      "source": [
        "The file will now be stored in our colab's session environment. You can see it by clicking the folder icon in the left-hand tool bar in colab. Double-click it to view it in colab. Right-click it and choose \"Download\" to download the file.\n",
        "\n",
        "To access it in your script, use the path `/content/ner_counts.tsv`"
      ],
      "metadata": {
        "id": "SWuE50s-KaIV"
      }
    },
    {
      "cell_type": "code",
      "source": [
        "with open(\"/content/ner_counts.tsv\", encoding=\"utf-8\") as file:\n",
        "  print(file.read())"
      ],
      "metadata": {
        "id": "JWNLig7t5lmn",
        "colab": {
          "base_uri": "https://localhost:8080/"
        },
        "outputId": "1e12c146-d0cb-4341-bbfc-0147bae02d4b"
      },
      "execution_count": null,
      "outputs": [
        {
          "output_type": "stream",
          "name": "stdout",
          "text": [
            "name\tfrequency\n",
            "Gaza\t48\n",
            "Rafah\t11\n",
            "Jabalia\t3\n",
            "al-Mawasi\t1\n",
            "Egypt\t7\n",
            "the Gaza Strip\t3\n",
            "Israel\t27\n",
            "Twam\t1\n",
            "Gaza City\t1\n",
            "Tal al-Hawa\t1\n",
            "Nuseirat\t4\n",
            "Khan Younis\t4\n",
            "Sinai\t2\n",
            "Maghazi\t8\n",
            "Gaza Strip\t1\n",
            "Bureij\t4\n",
            "Bethlehem\t2\n",
            "West Bank\t2\n",
            "Central Gaza Strip\t1\n",
            "Gaza’s\t2\n",
            "the Near East\t1\n",
            "Jenin\t1\n",
            "Dheisheh\t1\n",
            "Tall az-Zaatar\t1\n",
            "al-Shifa\t1\n",
            "Southern Gaza\t1\n",
            "East Jerusalem\t2\n",
            "Beit Lahia\t1\n",
            "Khan Younis city\t1\n",
            "Hamad\t1\n",
            "Gaza’s Jabalia\t1\n",
            "US\t4\n",
            "the United States\t1\n",
            "Ashkelon\t1\n",
            "Sderot\t1\n",
            "Beersheba\t1\n",
            "the West Bank\t1\n",
            "Qatar\t3\n",
            "Dubai\t1\n",
            "\n"
          ]
        }
      ]
    },
    {
      "cell_type": "markdown",
      "source": [
        "# Geocoding\n",
        "\n",
        "Geocoding is the process of finding coordinates for a place.\n",
        "\n",
        "The process uses APIs, Application Programming Interfaces,\n",
        "which are internet services that are designed not for human reading\n",
        "but for being called by applications.\n",
        "\n",
        "There are many APIs that provide geocoding services. They typically have a database of place names and their coordinates. If you send a geocoding API a place name, it will return its coordinates (and perhaps some other data). Many of them are not free. In our case, we'll use the free GeoNames API to find our place names.\n",
        "\n",
        "First, try it out by pasting the following URL in your browser (make sure to replace `<your_user_name>` with your geonames user name:\n",
        "\n",
        "`http://api.geonames.org/searchJSON?q=Gaza&maxRows=5&username=<your_user_name>`\n",
        "\n",
        "Paste the response here:\n",
        "\n",
        "{\n",
        "  \"totalResultsCount\": 5276,\n",
        "  \"geonames\": [\n",
        "    {\n",
        "      \"adminCode1\": \"GZ\",\n",
        "      \"lng\": \"34.46672\",\n",
        "      \"geonameId\": 281133,\n",
        "      \"toponymName\": \"Gaza\",\n",
        "      \"countryId\": \"6254930\",\n",
        "      \"fcl\": \"P\",\n",
        "      \"population\": 410000,\n",
        "      \"countryCode\": \"PS\",\n",
        "      \"name\": \"Gaza\",\n",
        "      \"fclName\": \"city, village,...\",\n",
        "      \"adminCodes1\": {\n",
        "\n",
        "      },\n",
        "      \"countryName\": \"Palestine\",\n",
        "      \"fcodeName\": \"seat of a first-order administrative division\",\n",
        "      \"adminName1\": \"Gaza Strip\",\n",
        "      \"lat\": \"31.50161\",\n",
        "      \"fcode\": \"PPLA\"\n",
        "    },\n",
        "    {\n",
        "      \"adminCode1\": \"GZ\",\n",
        "      \"lng\": \"34.48347\",\n",
        "      \"geonameId\": 281129,\n",
        "      \"toponymName\": \"Jabālyā\",\n",
        "      \"countryId\": \"6254930\",\n",
        "      \"fcl\": \"P\",\n",
        "      \"population\": 168568,\n",
        "      \"countryCode\": \"PS\",\n",
        "      \"name\": \"Jabalia\",\n",
        "      \"fclName\": \"city, village,...\",\n",
        "      \"adminCodes1\": {\n",
        "\n",
        "      },\n",
        "      \"countryName\": \"Palestine\",\n",
        "      \"fcodeName\": \"populated place\",\n",
        "      \"adminName1\": \"Gaza Strip\",\n",
        "      \"lat\": \"31.5272\",\n",
        "      \"fcode\": \"PPL\"\n",
        "    },\n",
        "    {\n",
        "      \"adminCode1\": \"GZ\",\n",
        "      \"lng\": \"34.30627\",\n",
        "      \"geonameId\": 281124,\n",
        "      \"toponymName\": \"Khān Yūnis\",\n",
        "      \"countryId\": \"6254930\",\n",
        "      \"fcl\": \"P\",\n",
        "      \"population\": 173183,\n",
        "      \"countryCode\": \"PS\",\n",
        "      \"name\": \"Khan Yunis\",\n",
        "      \"fclName\": \"city, village,...\",\n",
        "      \"adminCodes1\": {\n",
        "\n",
        "      },\n",
        "      \"countryName\": \"Palestine\",\n",
        "      \"fcodeName\": \"seat of a second-order administrative division\",\n",
        "      \"adminName1\": \"Gaza Strip\",\n",
        "      \"lat\": \"31.34018\",\n",
        "      \"fcode\": \"PPLA2\"\n",
        "    },\n",
        "    {\n",
        "      \"adminCode1\": \"02\",\n",
        "      \"lng\": \"33\",\n",
        "      \"geonameId\": 1046058,\n",
        "      \"toponymName\": \"Gaza Province\",\n",
        "      \"countryId\": \"1036973\",\n",
        "      \"fcl\": \"A\",\n",
        "      \"population\": 1422460,\n",
        "      \"countryCode\": \"MZ\",\n",
        "      \"name\": \"Gaza Province\",\n",
        "      \"fclName\": \"country, state, region,...\",\n",
        "      \"adminCodes1\": {\n",
        "        \"ISO3166_2\": \"G\"\n",
        "      },\n",
        "      \"countryName\": \"Mozambique\",\n",
        "      \"fcodeName\": \"first-order administrative division\",\n",
        "      \"adminName1\": \"Gaza Province\",\n",
        "      \"lat\": \"-23.5\",\n",
        "      \"fcode\": \"ADM1\"\n",
        "    },\n",
        "    {\n",
        "      \"adminCode1\": \"GZ\",\n",
        "      \"lng\": \"34.24357\",\n",
        "      \"geonameId\": 281102,\n",
        "      \"toponymName\": \"Rafaḩ\",\n",
        "      \"countryId\": \"6254930\",\n",
        "      \"fcl\": \"P\",\n",
        "      \"population\": 126305,\n",
        "      \"countryCode\": \"PS\",\n",
        "      \"name\": \"Rafah\",\n",
        "      \"fclName\": \"city, village,...\",\n",
        "      \"adminCodes1\": {\n",
        "\n",
        "      },\n",
        "      \"countryName\": \"Palestine\",\n",
        "      \"fcodeName\": \"seat of a second-order administrative division\",\n",
        "      \"adminName1\": \"Gaza Strip\",\n",
        "      \"lat\": \"31.29722\",\n",
        "      \"fcode\": \"PPLA2\"\n",
        "    }\n",
        "  ]\n",
        "}\n",
        "\n"
      ],
      "metadata": {
        "id": "JmNTZNklNXhZ"
      }
    },
    {
      "cell_type": "markdown",
      "source": [
        "I have created a function, `get_coordinates` that will take your a place name and your Geonames user name as an argument and return the coordinates. Please fill in your user name and run the code cell to make the function available:"
      ],
      "metadata": {
        "id": "ufgKi3XUOi4F"
      }
    },
    {
      "cell_type": "code",
      "source": [
        "import requests\n",
        "import time\n",
        "\n",
        "geonames_username = \"kulsoom_zaman\"\n",
        "\n",
        "def get_coordinates(place, username=geonames_username, fuzzy=0, timeout=1):\n",
        "  \"\"\"This function gets a single set of coordinates from the geonames API.\n",
        "\n",
        "  Args:\n",
        "    place (str): the place name\n",
        "    username (str): your geonames user name\n",
        "    fuzzy (int): 0 = exact matching, 1 = fuzzy matching (allow similar but not exact matches)\n",
        "    timeout (int): number of seconds to wait before a call to the geonames API\n",
        "      (to avoid being blocked for overloading the server)\n",
        "\n",
        "  Returns:\n",
        "    dictionary: keys: latitude, longitude\n",
        "  \"\"\"\n",
        "  # wait a short while, so that we don't overload the server:\n",
        "  time.sleep(timeout)\n",
        "  # make the API call:\n",
        "  url = \"http://api.geonames.org/searchJSON?\"\n",
        "  params = {\"q\": place, \"username\": username, \"fuzzy\": fuzzy, \"maxRows\": 1, \"isNameRequired\": True}\n",
        "  response = requests.get(url, params=params)\n",
        "  # convert the response into a dictionary:\n",
        "  results = response.json()\n",
        "  print(results)\n",
        "  # get the first result:\n",
        "  try:\n",
        "    result = results[\"geonames\"][0]\n",
        "    return {\"latitude\": result[\"lat\"], \"longitude\": result[\"lng\"]}\n",
        "  except (IndexError, KeyError):\n",
        "    print(\"No results found for your API call\", response.request.url)"
      ],
      "metadata": {
        "id": "J0QckQmtO2fG"
      },
      "execution_count": null,
      "outputs": []
    },
    {
      "cell_type": "markdown",
      "source": [
        "Now, we can test this function on a list of file names:"
      ],
      "metadata": {
        "id": "e3G6mpE2PzrK"
      }
    },
    {
      "cell_type": "code",
      "source": [
        "test_names = [\"Khan Younis\", \"Khān Yūnis\", \"United States\", \"blabla\"]\n",
        "\n",
        "# loop through the list of names and call the function:\n",
        "for name in test_names:\n",
        "  # call the function and assign the outcome to a variable called `coordinates`:\n",
        "  coordinates = get_coordinates(name)\n",
        "  # print the coordinates, only if they were found:\n",
        "  if coordinates:\n",
        "    print(\"=>\", coordinates)"
      ],
      "metadata": {
        "id": "9t4e4L0IP367",
        "colab": {
          "base_uri": "https://localhost:8080/"
        },
        "outputId": "c69469a6-5c0a-4290-eb9f-0ff9ffaa4b09"
      },
      "execution_count": null,
      "outputs": [
        {
          "output_type": "stream",
          "name": "stdout",
          "text": [
            "{'totalResultsCount': 287, 'geonames': [{'adminCode1': 'GZ', 'lng': '34.30627', 'geonameId': 281124, 'toponymName': 'Khān Yūnis', 'countryId': '6254930', 'fcl': 'P', 'population': 173183, 'countryCode': 'PS', 'name': 'Khan Yunis', 'fclName': 'city, village,...', 'adminCodes1': {}, 'countryName': 'Palestine', 'fcodeName': 'seat of a second-order administrative division', 'adminName1': 'Gaza Strip', 'lat': '31.34018', 'fcode': 'PPLA2'}]}\n",
            "=> {'latitude': '31.34018', 'longitude': '34.30627'}\n",
            "{'totalResultsCount': 318, 'geonames': [{'adminCode1': 'GZ', 'lng': '34.30627', 'geonameId': 281124, 'toponymName': 'Khān Yūnis', 'countryId': '6254930', 'fcl': 'P', 'population': 173183, 'countryCode': 'PS', 'name': 'Khan Yunis', 'fclName': 'city, village,...', 'adminCodes1': {}, 'countryName': 'Palestine', 'fcodeName': 'seat of a second-order administrative division', 'adminName1': 'Gaza Strip', 'lat': '31.34018', 'fcode': 'PPLA2'}]}\n",
            "=> {'latitude': '31.34018', 'longitude': '34.30627'}\n",
            "{'totalResultsCount': 209, 'geonames': [{'adminCode1': '00', 'lng': '-98.5', 'geonameId': 6252001, 'toponymName': 'United States', 'countryId': '6252001', 'fcl': 'A', 'population': 327167434, 'countryCode': 'US', 'name': 'United States', 'fclName': 'country, state, region,...', 'countryName': 'United States', 'fcodeName': 'independent political entity', 'adminName1': '', 'lat': '39.76', 'fcode': 'PCLI'}]}\n",
            "=> {'latitude': '39.76', 'longitude': '-98.5'}\n",
            "{'totalResultsCount': 0, 'geonames': []}\n",
            "No results found for your API call http://api.geonames.org/searchJSON?q=blabla&username=kulsoom_zaman&fuzzy=0&maxRows=1&isNameRequired=True\n"
          ]
        }
      ]
    },
    {
      "cell_type": "markdown",
      "source": [
        "Now, reuse the code above to get the coordinates for the place names from the places we stored in the `ner_counts.tsv` file.\n",
        "\n",
        "Write a new tsv file, `ner_gazetteer.tsv`, which contains three columns: name, latitude, longitude."
      ],
      "metadata": {
        "id": "tPZa44pwu8wb"
      }
    },
    {
      "cell_type": "code",
      "source": [
        "# get the place names from the tsv file\n",
        "places = []\n",
        "with open(\"ner_counts.tsv\", mode= \"r\", encoding= \"utf-8\") as file:\n",
        "  next(file)\n",
        "  for line in file:\n",
        "    name, _ = line.strip().split(\"\\t\")\n",
        "    places.append(name)\n",
        "\n",
        "# get the coordinates for each place\n",
        "results = []\n",
        "for name in places:\n",
        "  coordinates = get_coordinates(name)\n",
        "  if coordinates:\n",
        "    latitude, longitude = coordinates\n",
        "    results.append((name, latitude, longitude))\n",
        "\n",
        "# write coordinates to tsv file\n",
        "with open(\"ner_gazetteer.tsv\", mode=\"w\", encoding=\"utf-8\") as file:\n",
        "  header = \"name\\tlatitude\\tlongitude\\n\"\n",
        "  file.write(header)\n",
        "  for name, latitude, longitude in results:\n",
        "    row = f\"{name}\\t{latitude}\\t{longitude}\\n\"\n",
        "    file.write(row)"
      ],
      "metadata": {
        "id": "_gl9GEcb6whs",
        "colab": {
          "base_uri": "https://localhost:8080/"
        },
        "outputId": "4840a069-cd7c-431d-c49a-e7691c7caa99"
      },
      "execution_count": null,
      "outputs": [
        {
          "output_type": "stream",
          "name": "stdout",
          "text": [
            "{'totalResultsCount': 40, 'geonames': [{'adminCode1': 'GZ', 'lng': '34.46672', 'geonameId': 281133, 'toponymName': 'Gaza', 'countryId': '6254930', 'fcl': 'P', 'population': 410000, 'countryCode': 'PS', 'name': 'Gaza', 'fclName': 'city, village,...', 'adminCodes1': {}, 'countryName': 'Palestine', 'fcodeName': 'seat of a first-order administrative division', 'adminName1': 'Gaza Strip', 'lat': '31.50161', 'fcode': 'PPLA'}]}\n",
            "{'totalResultsCount': 14, 'geonames': [{'adminCode1': 'GZ', 'lng': '34.24357', 'geonameId': 281102, 'toponymName': 'Rafaḩ', 'countryId': '6254930', 'fcl': 'P', 'population': 126305, 'countryCode': 'PS', 'name': 'Rafah', 'fclName': 'city, village,...', 'adminCodes1': {}, 'countryName': 'Palestine', 'fcodeName': 'seat of a second-order administrative division', 'adminName1': 'Gaza Strip', 'lat': '31.29722', 'fcode': 'PPLA2'}]}\n",
            "{'totalResultsCount': 3, 'geonames': [{'adminCode1': 'GZ', 'lng': '34.48347', 'geonameId': 281129, 'toponymName': 'Jabālyā', 'countryId': '6254930', 'fcl': 'P', 'population': 168568, 'countryCode': 'PS', 'name': 'Jabalia', 'fclName': 'city, village,...', 'adminCodes1': {}, 'countryName': 'Palestine', 'fcodeName': 'populated place', 'adminName1': 'Gaza Strip', 'lat': '31.5272', 'fcode': 'PPL'}]}\n",
            "{'totalResultsCount': 1954, 'geonames': [{'adminCode1': '02', 'lng': '57.54', 'geonameId': 12215960, 'toponymName': 'Al ‘Awābī', 'countryId': '286963', 'fcl': 'A', 'population': 0, 'countryCode': 'OM', 'name': 'Al ‘Awābī', 'fclName': 'country, state, region,...', 'adminCodes1': {'ISO3166_2': 'BJ'}, 'countryName': 'Oman', 'fcodeName': 'second-order administrative division', 'adminName1': 'Al Batinah South', 'lat': '23.261', 'fcode': 'ADM2'}]}\n",
            "{'totalResultsCount': 57, 'geonames': [{'adminCode1': '00', 'lng': '30', 'geonameId': 357994, 'toponymName': 'Arab Republic of Egypt', 'countryId': '357994', 'fcl': 'A', 'population': 98423595, 'countryCode': 'EG', 'name': 'Egypt', 'fclName': 'country, state, region,...', 'countryName': 'Egypt', 'fcodeName': 'independent political entity', 'adminName1': '', 'lat': '27', 'fcode': 'PCLI'}]}\n",
            "{'totalResultsCount': 1081, 'geonames': [{'adminCode1': '06', 'lng': '28', 'geonameId': 938566, 'toponymName': 'Witwatersrand', 'countryId': '953987', 'fcl': 'L', 'population': 0, 'countryCode': 'ZA', 'name': 'Witwatersrand', 'fclName': 'parks,area, ...', 'adminCodes1': {'ISO3166_2': 'GP'}, 'countryName': 'South Africa', 'fcodeName': 'region', 'adminName1': 'Gauteng', 'lat': '-26.25', 'fcode': 'RGN'}]}\n",
            "{'totalResultsCount': 33, 'geonames': [{'adminCode1': '00', 'lng': '34.75', 'geonameId': 294640, 'toponymName': 'State of Israel', 'countryId': '294640', 'fcl': 'A', 'population': 8883800, 'countryCode': 'IL', 'name': 'Israel', 'fclName': 'country, state, region,...', 'countryName': 'Israel', 'fcodeName': 'independent political entity', 'adminName1': '', 'lat': '31.5', 'fcode': 'PCLI'}]}\n",
            "{'totalResultsCount': 4, 'geonames': [{'adminCode1': '10', 'lng': '36.53905', 'geonameId': 172314, 'toponymName': 'Tuwām', 'countryId': '163843', 'fcl': 'P', 'population': 0, 'countryCode': 'SY', 'name': 'Tuwām', 'fclName': 'city, village,...', 'adminCodes1': {'ISO3166_2': 'HM'}, 'countryName': 'Syria', 'fcodeName': 'populated place', 'adminName1': 'Hama', 'lat': '35.15737', 'fcode': 'PPL'}]}\n",
            "{'totalResultsCount': 78, 'geonames': [{'adminCode1': 'GZ', 'lng': '34.46672', 'geonameId': 281133, 'toponymName': 'Gaza', 'countryId': '6254930', 'fcl': 'P', 'population': 410000, 'countryCode': 'PS', 'name': 'Gaza', 'fclName': 'city, village,...', 'adminCodes1': {}, 'countryName': 'Palestine', 'fcodeName': 'seat of a first-order administrative division', 'adminName1': 'Gaza Strip', 'lat': '31.50161', 'fcode': 'PPLA'}]}\n",
            "{'totalResultsCount': 634, 'geonames': [{'adminCode1': '15', 'lng': '42.30685', 'geonameId': 95914, 'toponymName': 'Tall al Hiwá', 'countryId': '99237', 'fcl': 'P', 'population': 0, 'countryCode': 'IQ', 'name': 'Tall al Hiwá', 'fclName': 'city, village,...', 'adminCodes1': {'ISO3166_2': 'NI'}, 'countryName': 'Iraq', 'fcodeName': 'populated place', 'adminName1': 'Nineveh', 'lat': '36.74833', 'fcode': 'PPL'}]}\n",
            "{'totalResultsCount': 2, 'geonames': [{'adminCode1': 'GZ', 'lng': '34.3925', 'geonameId': 281109, 'toponymName': 'An Nuşayrāt', 'countryId': '6254930', 'fcl': 'P', 'population': 36123, 'countryCode': 'PS', 'name': 'An Nuşayrāt', 'fclName': 'city, village,...', 'adminCodes1': {}, 'countryName': 'Palestine', 'fcodeName': 'populated place', 'adminName1': 'Gaza Strip', 'lat': '31.44861', 'fcode': 'PPL'}]}\n",
            "{'totalResultsCount': 287, 'geonames': [{'adminCode1': 'GZ', 'lng': '34.30627', 'geonameId': 281124, 'toponymName': 'Khān Yūnis', 'countryId': '6254930', 'fcl': 'P', 'population': 173183, 'countryCode': 'PS', 'name': 'Khan Yunis', 'fclName': 'city, village,...', 'adminCodes1': {}, 'countryName': 'Palestine', 'fcodeName': 'seat of a second-order administrative division', 'adminName1': 'Gaza Strip', 'lat': '31.34018', 'fcode': 'PPLA2'}]}\n",
            "{'totalResultsCount': 91, 'geonames': [{'adminCode1': '10', 'lng': '-73.40585', 'geonameId': 3667996, 'toponymName': 'Sinaí', 'countryId': '3686110', 'fcl': 'L', 'population': 0, 'countryCode': 'CO', 'name': 'Sinaí', 'fclName': 'parks,area, ...', 'adminCodes1': {'ISO3166_2': 'CES'}, 'countryName': 'Colombia', 'fcodeName': 'locality', 'adminName1': 'Cesar Department', 'lat': '10.08605', 'fcode': 'LCTY'}]}\n",
            "{'totalResultsCount': 1, 'geonames': [{'adminCode1': 'GZ', 'lng': '34.38501', 'geonameId': 281086, 'toponymName': 'Maghazi', 'countryId': '6254930', 'fcl': 'S', 'population': 15836, 'countryCode': 'PS', 'name': 'Maghazi', 'fclName': 'spot, building, farm', 'adminCodes1': {}, 'countryName': 'Palestine', 'fcodeName': 'refugee camp', 'adminName1': 'Gaza Strip', 'lat': '31.42234', 'fcode': 'CMPRF'}]}\n",
            "{'totalResultsCount': 9, 'geonames': [{'adminCode1': 'GZ', 'lng': '34.46672', 'geonameId': 281133, 'toponymName': 'Gaza', 'countryId': '6254930', 'fcl': 'P', 'population': 410000, 'countryCode': 'PS', 'name': 'Gaza', 'fclName': 'city, village,...', 'adminCodes1': {}, 'countryName': 'Palestine', 'fcodeName': 'seat of a first-order administrative division', 'adminName1': 'Gaza Strip', 'lat': '31.50161', 'fcode': 'PPLA'}]}\n",
            "{'totalResultsCount': 4, 'geonames': [{'adminCode1': 'GZ', 'lng': '34.40306', 'geonameId': 281161, 'toponymName': 'Al Burayj', 'countryId': '6254930', 'fcl': 'P', 'population': 34951, 'countryCode': 'PS', 'name': 'Al Burayj', 'fclName': 'city, village,...', 'adminCodes1': {}, 'countryName': 'Palestine', 'fcodeName': 'populated place', 'adminName1': 'Gaza Strip', 'lat': '31.43944', 'fcode': 'PPL'}]}\n",
            "{'totalResultsCount': 80, 'geonames': [{'adminCode1': 'PA', 'lng': '-75.37046', 'geonameId': 5180225, 'toponymName': 'Bethlehem', 'countryId': '6252001', 'fcl': 'P', 'population': 74892, 'countryCode': 'US', 'name': 'Bethlehem', 'fclName': 'city, village,...', 'adminCodes1': {'ISO3166_2': 'PA'}, 'countryName': 'United States', 'fcodeName': 'populated place', 'adminName1': 'Pennsylvania', 'lat': '40.62593', 'fcode': 'PPL'}]}\n",
            "{'totalResultsCount': 2604, 'geonames': [{'adminCode1': '10375968', 'lng': '-81.39281', 'geonameId': 3580477, 'toponymName': 'West Bay', 'countryId': '3580718', 'fcl': 'P', 'population': 15335, 'countryCode': 'KY', 'name': 'West Bay', 'fclName': 'city, village,...', 'countryName': 'Cayman Islands', 'fcodeName': 'seat of a first-order administrative division', 'adminName1': 'West Bay', 'lat': '19.38197', 'fcode': 'PPLA'}]}\n",
            "{'totalResultsCount': 1627, 'geonames': [{'lng': '24.69727', 'geonameId': 7729886, 'name': 'Central Africa', 'fclName': 'parks,area, ...', 'toponymName': 'Central Africa', 'fcodeName': 'region', 'adminName1': '', 'lat': '-2.02107', 'fcl': 'L', 'fcode': 'RGN', 'population': 129400000}]}\n",
            "{'totalResultsCount': 0, 'geonames': []}\n",
            "No results found for your API call http://api.geonames.org/searchJSON?q=Gaza%E2%80%99s&username=kulsoom_zaman&fuzzy=0&maxRows=1&isNameRequired=True\n",
            "{'totalResultsCount': 2149, 'geonames': [{'adminCode1': '00', 'lng': '105.67912', 'geonameId': 2078127, 'toponymName': 'Flying Fish Cove', 'countryId': '2078138', 'fcl': 'P', 'population': 500, 'countryCode': 'CX', 'name': 'Flying Fish Cove', 'fclName': 'city, village,...', 'countryName': 'Christmas Island', 'fcodeName': 'capital of a political entity', 'adminName1': '', 'lat': '-10.42172', 'fcode': 'PPLC'}]}\n",
            "{'totalResultsCount': 7, 'geonames': [{'adminCode1': 'WE', 'lng': '35.30086', 'geonameId': 283506, 'toponymName': 'Janīn', 'countryId': '6254930', 'fcl': 'P', 'population': 34730, 'countryCode': 'PS', 'name': 'Jenin', 'fclName': 'city, village,...', 'adminCodes1': {}, 'countryName': 'Palestine', 'fcodeName': 'populated place', 'adminName1': 'West Bank', 'lat': '32.45943', 'fcode': 'PPL'}]}\n",
            "{'totalResultsCount': 1, 'geonames': [{'adminCode1': 'WE', 'lng': '35.18383', 'geonameId': 281196, 'toponymName': 'Mukhayyam ad Duhayshah', 'countryId': '6254930', 'fcl': 'S', 'population': 6826, 'countryCode': 'PS', 'name': 'Dheisheh', 'fclName': 'spot, building, farm', 'adminCodes1': {}, 'countryName': 'Palestine', 'fcodeName': 'refugee camp', 'adminName1': 'West Bank', 'lat': '31.69357', 'fcode': 'CMPRF'}]}\n",
            "{'totalResultsCount': 1121, 'geonames': [{'adminCode1': '05', 'lng': '35.54917', 'geonameId': 266889, 'toponymName': 'Tall ez Zaatar', 'countryId': '272103', 'fcl': 'P', 'population': 0, 'countryCode': 'LB', 'name': 'Tall ez Zaatar', 'fclName': 'city, village,...', 'adminCodes1': {'ISO3166_2': 'JL'}, 'countryName': 'Lebanon', 'fcodeName': 'populated place', 'adminName1': 'Mont-Liban', 'lat': '33.86861', 'fcode': 'PPL'}]}\n",
            "{'totalResultsCount': 2032, 'geonames': [{'adminCode1': '01', 'lng': '54.19517', 'geonameId': 291603, 'toponymName': 'Līwā', 'countryId': '290557', 'fcl': 'L', 'population': 0, 'countryCode': 'AE', 'name': 'Līwā', 'fclName': 'parks,area, ...', 'adminCodes1': {'ISO3166_2': 'AZ'}, 'countryName': 'United Arab Emirates', 'fcodeName': 'area', 'adminName1': 'Abu Dhabi', 'lat': '22.97478', 'fcode': 'AREA'}]}\n",
            "{'totalResultsCount': 342, 'geonames': [{'lng': '78.66211', 'geonameId': 7729895, 'name': 'Southern Asia', 'fclName': 'parks,area, ...', 'toponymName': 'Southern Asia', 'fcodeName': 'region', 'adminName1': '', 'lat': '21.28937', 'fcl': 'L', 'fcode': 'RGN', 'population': 1702000000}]}\n",
            "{'totalResultsCount': 1332, 'geonames': [{'adminCode1': 'WE', 'lng': '35.23388', 'geonameId': 7303419, 'toponymName': 'East Jerusalem', 'countryId': '6254930', 'fcl': 'P', 'population': 428304, 'countryCode': 'PS', 'name': 'East Jerusalem', 'fclName': 'city, village,...', 'adminCodes1': {}, 'countryName': 'Palestine', 'fcodeName': 'section of populated place', 'adminName1': 'West Bank', 'lat': '31.78336', 'fcode': 'PPLX'}]}\n",
            "{'totalResultsCount': 249, 'geonames': [{'adminCode1': 'GZ', 'lng': '34.49514', 'geonameId': 281145, 'toponymName': 'Bayt Lāhyā', 'countryId': '6254930', 'fcl': 'P', 'population': 56919, 'countryCode': 'PS', 'name': 'Beit Lahia', 'fclName': 'city, village,...', 'adminCodes1': {}, 'countryName': 'Palestine', 'fcodeName': 'populated place', 'adminName1': 'Gaza Strip', 'lat': '31.5464', 'fcode': 'PPL'}]}\n",
            "{'totalResultsCount': 157, 'geonames': [{'adminCode1': 'GZ', 'lng': '34.30627', 'geonameId': 281124, 'toponymName': 'Khān Yūnis', 'countryId': '6254930', 'fcl': 'P', 'population': 173183, 'countryCode': 'PS', 'name': 'Khan Yunis', 'fclName': 'city, village,...', 'adminCodes1': {}, 'countryName': 'Palestine', 'fcodeName': 'seat of a second-order administrative division', 'adminName1': 'Gaza Strip', 'lat': '31.34018', 'fcode': 'PPLA2'}]}\n",
            "{'totalResultsCount': 18, 'geonames': [{'adminCode1': '15', 'lng': '48.45684', 'geonameId': 132147, 'toponymName': 'Ḩamād', 'countryId': '130758', 'fcl': 'P', 'population': 0, 'countryCode': 'IR', 'name': 'Ḩamād', 'fclName': 'city, village,...', 'adminCodes1': {'ISO3166_2': '06'}, 'countryName': 'Iran', 'fcodeName': 'populated place', 'adminName1': 'Khuzestan', 'lat': '31.40307', 'fcode': 'PPL'}]}\n",
            "{'totalResultsCount': 0, 'geonames': []}\n",
            "No results found for your API call http://api.geonames.org/searchJSON?q=Gaza%E2%80%99s+Jabalia&username=kulsoom_zaman&fuzzy=0&maxRows=1&isNameRequired=True\n",
            "{'totalResultsCount': 14, 'geonames': [{'adminCode1': '11', 'lng': '1.96667', 'geonameId': 2971316, 'toponymName': 'Us', 'countryId': '3017382', 'fcl': 'P', 'population': 1248, 'countryCode': 'FR', 'name': 'Us', 'fclName': 'city, village,...', 'adminCodes1': {'ISO3166_2': 'IDF'}, 'countryName': 'France', 'fcodeName': 'populated place', 'adminName1': 'Île-de-France', 'lat': '49.1', 'fcode': 'PPL'}]}\n",
            "{'totalResultsCount': 1052, 'geonames': [{'adminCode1': 'SC', 'lng': '-79.63717', 'geonameId': 4585367, 'toponymName': 'The Little Lakes', 'countryId': '6252001', 'fcl': 'H', 'population': 0, 'countryCode': 'US', 'name': 'The Little Lakes', 'fclName': 'stream, lake, ...', 'adminCodes1': {'ISO3166_2': 'SC'}, 'countryName': 'United States', 'fcodeName': 'lake', 'adminName1': 'South Carolina', 'lat': '34.31336', 'fcode': 'LK'}]}\n",
            "{'totalResultsCount': 4, 'geonames': [{'adminCode1': '01', 'lng': '34.57149', 'geonameId': 295620, 'toponymName': 'Ashkelon', 'countryId': '294640', 'fcl': 'P', 'population': 144073, 'countryCode': 'IL', 'name': 'Ashquelon', 'fclName': 'city, village,...', 'adminCodes1': {'ISO3166_2': 'D'}, 'countryName': 'Israel', 'fcodeName': 'populated place', 'adminName1': 'Southern District', 'lat': '31.66926', 'fcode': 'PPL'}]}\n",
            "{'totalResultsCount': 1, 'geonames': [{'adminCode1': '01', 'lng': '34.59693', 'geonameId': 293619, 'toponymName': 'Sderot', 'countryId': '294640', 'fcl': 'P', 'population': 27635, 'countryCode': 'IL', 'name': 'Sderot', 'fclName': 'city, village,...', 'adminCodes1': {'ISO3166_2': 'D'}, 'countryName': 'Israel', 'fcodeName': 'populated place', 'adminName1': 'Southern District', 'lat': '31.525', 'fcode': 'PPL'}]}\n",
            "{'totalResultsCount': 8, 'geonames': [{'adminCode1': '01', 'lng': '34.7913', 'geonameId': 295530, 'toponymName': 'Beersheba', 'countryId': '294640', 'fcl': 'P', 'population': 186600, 'countryCode': 'IL', 'name': 'Beersheba', 'fclName': 'city, village,...', 'adminCodes1': {'ISO3166_2': 'D'}, 'countryName': 'Israel', 'fcodeName': 'seat of a first-order administrative division', 'adminName1': 'Southern District', 'lat': '31.25181', 'fcode': 'PPLA'}]}\n",
            "{'totalResultsCount': 1256, 'geonames': [{'adminCode1': '00', 'lng': '105.67912', 'geonameId': 2078127, 'toponymName': 'Flying Fish Cove', 'countryId': '2078138', 'fcl': 'P', 'population': 500, 'countryCode': 'CX', 'name': 'Flying Fish Cove', 'fclName': 'city, village,...', 'countryName': 'Christmas Island', 'fcodeName': 'capital of a political entity', 'adminName1': '', 'lat': '-10.42172', 'fcode': 'PPLC'}]}\n",
            "{'totalResultsCount': 22, 'geonames': [{'adminCode1': '00', 'lng': '51.25', 'geonameId': 289688, 'toponymName': 'State of Qatar', 'countryId': '289688', 'fcl': 'A', 'population': 2781677, 'countryCode': 'QA', 'name': 'Qatar', 'fclName': 'country, state, region,...', 'countryName': 'Qatar', 'fcodeName': 'independent political entity', 'adminName1': '', 'lat': '25.5', 'fcode': 'PCLI'}]}\n",
            "{'totalResultsCount': 11, 'geonames': [{'adminCode1': '03', 'lng': '55.30927', 'geonameId': 292223, 'toponymName': 'Dubai', 'countryId': '290557', 'fcl': 'P', 'population': 3478300, 'countryCode': 'AE', 'name': 'Dubai', 'fclName': 'city, village,...', 'adminCodes1': {'ISO3166_2': 'DU'}, 'countryName': 'United Arab Emirates', 'fcodeName': 'seat of a first-order administrative division', 'adminName1': 'Dubai', 'lat': '25.07725', 'fcode': 'PPLA'}]}\n"
          ]
        }
      ]
    }
  ]
}